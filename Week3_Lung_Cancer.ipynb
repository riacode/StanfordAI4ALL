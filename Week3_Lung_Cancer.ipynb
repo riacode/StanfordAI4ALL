{
  "nbformat": 4,
  "nbformat_minor": 0,
  "metadata": {
    "colab": {
      "provenance": [],
      "authorship_tag": "ABX9TyNZN7KjeMFtTDPQEJGjT1bO",
      "include_colab_link": true
    },
    "kernelspec": {
      "name": "python3",
      "display_name": "Python 3"
    },
    "language_info": {
      "name": "python"
    }
  },
  "cells": [
    {
      "cell_type": "markdown",
      "metadata": {
        "id": "view-in-github",
        "colab_type": "text"
      },
      "source": [
        "<a href=\"https://colab.research.google.com/github/riacode/StanfordAI4ALL/blob/main/Week3_Lung_Cancer.ipynb\" target=\"_parent\"><img src=\"https://colab.research.google.com/assets/colab-badge.svg\" alt=\"Open In Colab\"/></a>"
      ]
    },
    {
      "cell_type": "markdown",
      "metadata": {
        "id": "Ij_qlxBNiSrI"
      },
      "source": [
        "## This notebook implements all the algorithms we learned in Week 2 of the camp on my dataset about lung cancer.\n",
        "\n",
        "AI4ALL Camp Day 11"
      ]
    },
    {
      "cell_type": "markdown",
      "metadata": {
        "id": "otFl8vCGiQYi"
      },
      "source": [
        "# Imports"
      ]
    },
    {
      "cell_type": "code",
      "metadata": {
        "id": "HmmI-P1IgUNg"
      },
      "source": [
        "import numpy as np\n",
        "import matplotlib.pyplot as plt\n",
        "import io\n",
        "import pandas as pd\n",
        "import seaborn as sns\n",
        "import math\n",
        "from sklearn.model_selection import train_test_split\n",
        "from sklearn import tree\n",
        "from numpy import mean\n",
        "from matplotlib import pyplot as plt\n",
        "from collections import Counter\n",
        "from google.colab import files\n",
        "%matplotlib inline"
      ],
      "execution_count": null,
      "outputs": []
    },
    {
      "cell_type": "code",
      "metadata": {
        "id": "dTINCnlb27T_",
        "colab": {
          "resources": {
            "http://localhost:8080/nbextensions/google.colab/files.js": {
              "data": "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",
              "ok": true,
              "headers": [
                [
                  "content-type",
                  "application/javascript"
                ]
              ],
              "status": 200,
              "status_text": ""
            }
          },
          "base_uri": "https://localhost:8080/",
          "height": 72
        },
        "outputId": "e37b7555-7bcb-427b-de1e-419e80c293ff"
      },
      "source": [
        "uploaded = files.upload()\n",
        "data = pd.read_csv(io.BytesIO(uploaded['lung_normal_4tumors.csv']), encoding='utf-8')"
      ],
      "execution_count": null,
      "outputs": [
        {
          "output_type": "display_data",
          "data": {
            "text/html": [
              "\n",
              "     <input type=\"file\" id=\"files-1ba1c827-2b4f-44d6-b201-bbef760e3662\" name=\"files[]\" multiple disabled\n",
              "        style=\"border:none\" />\n",
              "     <output id=\"result-1ba1c827-2b4f-44d6-b201-bbef760e3662\">\n",
              "      Upload widget is only available when the cell has been executed in the\n",
              "      current browser session. Please rerun this cell to enable.\n",
              "      </output>\n",
              "      <script src=\"/nbextensions/google.colab/files.js\"></script> "
            ],
            "text/plain": [
              "<IPython.core.display.HTML object>"
            ]
          },
          "metadata": {
            "tags": []
          }
        },
        {
          "output_type": "stream",
          "text": [
            "Saving lung_normal_4tumors.csv to lung_normal_4tumors.csv\n"
          ],
          "name": "stdout"
        }
      ]
    },
    {
      "cell_type": "code",
      "metadata": {
        "colab": {
          "base_uri": "https://localhost:8080/",
          "height": 476
        },
        "id": "93AeudHbmtDu",
        "outputId": "25f7d71f-cb9f-4b38-ee25-e3cc99452c89"
      },
      "source": [
        "data"
      ],
      "execution_count": null,
      "outputs": [
        {
          "output_type": "execute_result",
          "data": {
            "text/html": [
              "<div>\n",
              "<style scoped>\n",
              "    .dataframe tbody tr th:only-of-type {\n",
              "        vertical-align: middle;\n",
              "    }\n",
              "\n",
              "    .dataframe tbody tr th {\n",
              "        vertical-align: top;\n",
              "    }\n",
              "\n",
              "    .dataframe thead th {\n",
              "        text-align: right;\n",
              "    }\n",
              "</style>\n",
              "<table border=\"1\" class=\"dataframe\">\n",
              "  <thead>\n",
              "    <tr style=\"text-align: right;\">\n",
              "      <th></th>\n",
              "      <th>38691_s_at</th>\n",
              "      <th>37864_s_at</th>\n",
              "      <th>33273_f_at</th>\n",
              "      <th>33274_f_at</th>\n",
              "      <th>33501_r_at</th>\n",
              "      <th>33500_i_at</th>\n",
              "      <th>33499_s_at</th>\n",
              "      <th>41164_at</th>\n",
              "      <th>38194_s_at</th>\n",
              "      <th>37004_at</th>\n",
              "      <th>40808_at</th>\n",
              "      <th>41827_f_at</th>\n",
              "      <th>34105_f_at</th>\n",
              "      <th>41165_g_at</th>\n",
              "      <th>769_s_at</th>\n",
              "      <th>33699_at</th>\n",
              "      <th>31444_s_at</th>\n",
              "      <th>33383_f_at</th>\n",
              "      <th>37039_at</th>\n",
              "      <th>32052_at</th>\n",
              "      <th>32805_at</th>\n",
              "      <th>34301_r_at</th>\n",
              "      <th>33322_i_at</th>\n",
              "      <th>35566_f_at</th>\n",
              "      <th>35083_at</th>\n",
              "      <th>33377_at</th>\n",
              "      <th>34342_s_at</th>\n",
              "      <th>32252_at</th>\n",
              "      <th>36780_at</th>\n",
              "      <th>31687_f_at</th>\n",
              "      <th>37383_f_at</th>\n",
              "      <th>39248_at</th>\n",
              "      <th>34485_r_at</th>\n",
              "      <th>AFFX</th>\n",
              "      <th>35905_s_at</th>\n",
              "      <th>676_g_at</th>\n",
              "      <th>35530_f_at</th>\n",
              "      <th>39026_r_at</th>\n",
              "      <th>41237_at</th>\n",
              "      <th>AFFX-HUMGAPDH/M33197_5_at</th>\n",
              "      <th>...</th>\n",
              "      <th>31880_at</th>\n",
              "      <th>38383_at</th>\n",
              "      <th>475_at</th>\n",
              "      <th>1245_i_at</th>\n",
              "      <th>34096_at</th>\n",
              "      <th>33793_at</th>\n",
              "      <th>37112_at</th>\n",
              "      <th>36258_at</th>\n",
              "      <th>37090_at</th>\n",
              "      <th>38879_at</th>\n",
              "      <th>41334_r_at</th>\n",
              "      <th>35681_r_at</th>\n",
              "      <th>876_at</th>\n",
              "      <th>34938_i_at</th>\n",
              "      <th>37524_at</th>\n",
              "      <th>AFFX-TrpnX-M_at</th>\n",
              "      <th>32037_r_at</th>\n",
              "      <th>32301_at</th>\n",
              "      <th>32075_at</th>\n",
              "      <th>38525_at</th>\n",
              "      <th>35894_at</th>\n",
              "      <th>35259_s_at</th>\n",
              "      <th>34544_at</th>\n",
              "      <th>39742_at</th>\n",
              "      <th>32083_at</th>\n",
              "      <th>AFFX-CreX-5_at</th>\n",
              "      <th>38911_at</th>\n",
              "      <th>33628_g_at</th>\n",
              "      <th>32012_at</th>\n",
              "      <th>41848_f_at</th>\n",
              "      <th>32086_at</th>\n",
              "      <th>33886_at</th>\n",
              "      <th>31781_at</th>\n",
              "      <th>AFFX-BioC-3_at</th>\n",
              "      <th>41422_at</th>\n",
              "      <th>39964_at</th>\n",
              "      <th>36120_at</th>\n",
              "      <th>40571_at</th>\n",
              "      <th>36312_at</th>\n",
              "      <th>label</th>\n",
              "    </tr>\n",
              "  </thead>\n",
              "  <tbody>\n",
              "    <tr>\n",
              "      <th>0</th>\n",
              "      <td>63.20</td>\n",
              "      <td>4196.25</td>\n",
              "      <td>3306.35</td>\n",
              "      <td>3330.86</td>\n",
              "      <td>1609.47</td>\n",
              "      <td>1597.32</td>\n",
              "      <td>1233.89</td>\n",
              "      <td>255.14</td>\n",
              "      <td>3036.53</td>\n",
              "      <td>8.92</td>\n",
              "      <td>16.210</td>\n",
              "      <td>1562.50</td>\n",
              "      <td>665.35</td>\n",
              "      <td>135.43</td>\n",
              "      <td>2397.58</td>\n",
              "      <td>98.890</td>\n",
              "      <td>2290.93</td>\n",
              "      <td>-4.03</td>\n",
              "      <td>1402.85</td>\n",
              "      <td>54.280</td>\n",
              "      <td>50.230</td>\n",
              "      <td>239.640</td>\n",
              "      <td>852.820</td>\n",
              "      <td>499.25</td>\n",
              "      <td>4182.14</td>\n",
              "      <td>-8.08</td>\n",
              "      <td>1887.45</td>\n",
              "      <td>0.010</td>\n",
              "      <td>559.250</td>\n",
              "      <td>114.310</td>\n",
              "      <td>4261.15</td>\n",
              "      <td>59.96</td>\n",
              "      <td>-414.300</td>\n",
              "      <td>2565.55</td>\n",
              "      <td>5090.71</td>\n",
              "      <td>4751.66</td>\n",
              "      <td>266.57</td>\n",
              "      <td>126.50</td>\n",
              "      <td>2528.43</td>\n",
              "      <td>2570.50</td>\n",
              "      <td>...</td>\n",
              "      <td>10.540</td>\n",
              "      <td>12.16</td>\n",
              "      <td>18.630</td>\n",
              "      <td>6.490</td>\n",
              "      <td>-2.410</td>\n",
              "      <td>-11.320</td>\n",
              "      <td>5.680</td>\n",
              "      <td>15.400</td>\n",
              "      <td>-9.700</td>\n",
              "      <td>-4.84</td>\n",
              "      <td>22.680</td>\n",
              "      <td>14.590</td>\n",
              "      <td>4.870</td>\n",
              "      <td>-6.460</td>\n",
              "      <td>4.870</td>\n",
              "      <td>-33.160</td>\n",
              "      <td>3.250</td>\n",
              "      <td>0.010</td>\n",
              "      <td>10.540</td>\n",
              "      <td>-5.65</td>\n",
              "      <td>-21.83</td>\n",
              "      <td>34.020</td>\n",
              "      <td>17.020</td>\n",
              "      <td>35.64</td>\n",
              "      <td>13.780</td>\n",
              "      <td>-22.640</td>\n",
              "      <td>6.490</td>\n",
              "      <td>-15.360</td>\n",
              "      <td>2.440</td>\n",
              "      <td>-17.790</td>\n",
              "      <td>18.630</td>\n",
              "      <td>51.040</td>\n",
              "      <td>-13.740</td>\n",
              "      <td>-29.120</td>\n",
              "      <td>-28.310</td>\n",
              "      <td>20.250</td>\n",
              "      <td>28.350</td>\n",
              "      <td>4.060</td>\n",
              "      <td>-19.41</td>\n",
              "      <td>0.0</td>\n",
              "    </tr>\n",
              "    <tr>\n",
              "      <th>1</th>\n",
              "      <td>965.47</td>\n",
              "      <td>6207.61</td>\n",
              "      <td>7077.04</td>\n",
              "      <td>6968.59</td>\n",
              "      <td>6569.86</td>\n",
              "      <td>6419.19</td>\n",
              "      <td>6908.34</td>\n",
              "      <td>4785.76</td>\n",
              "      <td>4562.19</td>\n",
              "      <td>1120.10</td>\n",
              "      <td>31.420</td>\n",
              "      <td>4152.27</td>\n",
              "      <td>4600.01</td>\n",
              "      <td>3480.65</td>\n",
              "      <td>2534.08</td>\n",
              "      <td>84.500</td>\n",
              "      <td>2141.00</td>\n",
              "      <td>234.08</td>\n",
              "      <td>2577.81</td>\n",
              "      <td>67.520</td>\n",
              "      <td>1723.450</td>\n",
              "      <td>78.130</td>\n",
              "      <td>433.870</td>\n",
              "      <td>3352.11</td>\n",
              "      <td>4389.94</td>\n",
              "      <td>30.36</td>\n",
              "      <td>1061.32</td>\n",
              "      <td>18.680</td>\n",
              "      <td>894.660</td>\n",
              "      <td>32.480</td>\n",
              "      <td>3910.93</td>\n",
              "      <td>1808.95</td>\n",
              "      <td>14.430</td>\n",
              "      <td>2362.42</td>\n",
              "      <td>4509.08</td>\n",
              "      <td>3496.16</td>\n",
              "      <td>3523.09</td>\n",
              "      <td>-2.56</td>\n",
              "      <td>2127.27</td>\n",
              "      <td>2402.53</td>\n",
              "      <td>...</td>\n",
              "      <td>21.860</td>\n",
              "      <td>11.24</td>\n",
              "      <td>22.920</td>\n",
              "      <td>17.610</td>\n",
              "      <td>0.630</td>\n",
              "      <td>-4.680</td>\n",
              "      <td>9.120</td>\n",
              "      <td>17.610</td>\n",
              "      <td>2.750</td>\n",
              "      <td>-1.50</td>\n",
              "      <td>20.800</td>\n",
              "      <td>20.800</td>\n",
              "      <td>18.680</td>\n",
              "      <td>-2.560</td>\n",
              "      <td>13.370</td>\n",
              "      <td>-7.870</td>\n",
              "      <td>14.430</td>\n",
              "      <td>10.180</td>\n",
              "      <td>26.110</td>\n",
              "      <td>13.37</td>\n",
              "      <td>9.12</td>\n",
              "      <td>27.170</td>\n",
              "      <td>22.920</td>\n",
              "      <td>27.17</td>\n",
              "      <td>20.800</td>\n",
              "      <td>-14.240</td>\n",
              "      <td>16.550</td>\n",
              "      <td>-6.810</td>\n",
              "      <td>11.240</td>\n",
              "      <td>-5.740</td>\n",
              "      <td>5.940</td>\n",
              "      <td>28.230</td>\n",
              "      <td>-4.680</td>\n",
              "      <td>-13.180</td>\n",
              "      <td>-13.180</td>\n",
              "      <td>21.860</td>\n",
              "      <td>9.120</td>\n",
              "      <td>11.240</td>\n",
              "      <td>8.06</td>\n",
              "      <td>0.0</td>\n",
              "    </tr>\n",
              "    <tr>\n",
              "      <th>2</th>\n",
              "      <td>2940.51</td>\n",
              "      <td>6858.12</td>\n",
              "      <td>6927.79</td>\n",
              "      <td>6495.99</td>\n",
              "      <td>5273.47</td>\n",
              "      <td>4672.48</td>\n",
              "      <td>5474.67</td>\n",
              "      <td>2140.99</td>\n",
              "      <td>5120.39</td>\n",
              "      <td>1212.90</td>\n",
              "      <td>-0.195</td>\n",
              "      <td>3623.89</td>\n",
              "      <td>1533.90</td>\n",
              "      <td>1187.76</td>\n",
              "      <td>3105.11</td>\n",
              "      <td>65.925</td>\n",
              "      <td>2784.31</td>\n",
              "      <td>476.26</td>\n",
              "      <td>2471.10</td>\n",
              "      <td>216.965</td>\n",
              "      <td>2565.110</td>\n",
              "      <td>278.155</td>\n",
              "      <td>819.100</td>\n",
              "      <td>1030.22</td>\n",
              "      <td>4743.80</td>\n",
              "      <td>16.71</td>\n",
              "      <td>1553.85</td>\n",
              "      <td>-1.125</td>\n",
              "      <td>797.565</td>\n",
              "      <td>101.705</td>\n",
              "      <td>3264.08</td>\n",
              "      <td>2372.18</td>\n",
              "      <td>-67.920</td>\n",
              "      <td>1861.83</td>\n",
              "      <td>5321.86</td>\n",
              "      <td>3302.88</td>\n",
              "      <td>1185.65</td>\n",
              "      <td>17.02</td>\n",
              "      <td>2027.95</td>\n",
              "      <td>1594.80</td>\n",
              "      <td>...</td>\n",
              "      <td>11.570</td>\n",
              "      <td>2.92</td>\n",
              "      <td>0.885</td>\n",
              "      <td>-0.810</td>\n",
              "      <td>-3.160</td>\n",
              "      <td>-14.575</td>\n",
              "      <td>-1.575</td>\n",
              "      <td>10.745</td>\n",
              "      <td>-9.295</td>\n",
              "      <td>2.47</td>\n",
              "      <td>20.535</td>\n",
              "      <td>10.815</td>\n",
              "      <td>2.735</td>\n",
              "      <td>-3.475</td>\n",
              "      <td>7.610</td>\n",
              "      <td>-25.205</td>\n",
              "      <td>5.175</td>\n",
              "      <td>0.995</td>\n",
              "      <td>22.235</td>\n",
              "      <td>1.28</td>\n",
              "      <td>-15.93</td>\n",
              "      <td>9.960</td>\n",
              "      <td>6.710</td>\n",
              "      <td>26.31</td>\n",
              "      <td>8.320</td>\n",
              "      <td>-19.730</td>\n",
              "      <td>9.905</td>\n",
              "      <td>-2.915</td>\n",
              "      <td>-0.250</td>\n",
              "      <td>-17.225</td>\n",
              "      <td>4.725</td>\n",
              "      <td>17.280</td>\n",
              "      <td>-6.590</td>\n",
              "      <td>-17.970</td>\n",
              "      <td>-16.070</td>\n",
              "      <td>10.195</td>\n",
              "      <td>17.285</td>\n",
              "      <td>6.920</td>\n",
              "      <td>-11.09</td>\n",
              "      <td>0.0</td>\n",
              "    </tr>\n",
              "    <tr>\n",
              "      <th>3</th>\n",
              "      <td>64.07</td>\n",
              "      <td>7016.91</td>\n",
              "      <td>7132.05</td>\n",
              "      <td>6983.44</td>\n",
              "      <td>6284.96</td>\n",
              "      <td>5504.68</td>\n",
              "      <td>6097.27</td>\n",
              "      <td>5885.41</td>\n",
              "      <td>5446.04</td>\n",
              "      <td>4422.72</td>\n",
              "      <td>-11.140</td>\n",
              "      <td>4812.18</td>\n",
              "      <td>3995.36</td>\n",
              "      <td>4282.76</td>\n",
              "      <td>2003.31</td>\n",
              "      <td>530.195</td>\n",
              "      <td>1914.52</td>\n",
              "      <td>1843.67</td>\n",
              "      <td>2398.00</td>\n",
              "      <td>251.770</td>\n",
              "      <td>392.635</td>\n",
              "      <td>186.300</td>\n",
              "      <td>804.645</td>\n",
              "      <td>3541.65</td>\n",
              "      <td>4335.57</td>\n",
              "      <td>34.69</td>\n",
              "      <td>880.48</td>\n",
              "      <td>-7.115</td>\n",
              "      <td>305.480</td>\n",
              "      <td>100.605</td>\n",
              "      <td>3880.54</td>\n",
              "      <td>926.18</td>\n",
              "      <td>-275.715</td>\n",
              "      <td>2340.89</td>\n",
              "      <td>5010.51</td>\n",
              "      <td>2895.65</td>\n",
              "      <td>4073.99</td>\n",
              "      <td>14.22</td>\n",
              "      <td>3546.41</td>\n",
              "      <td>1937.18</td>\n",
              "      <td>...</td>\n",
              "      <td>18.805</td>\n",
              "      <td>16.37</td>\n",
              "      <td>36.220</td>\n",
              "      <td>10.455</td>\n",
              "      <td>2.435</td>\n",
              "      <td>-4.520</td>\n",
              "      <td>13.895</td>\n",
              "      <td>12.290</td>\n",
              "      <td>-5.520</td>\n",
              "      <td>-7.52</td>\n",
              "      <td>9.915</td>\n",
              "      <td>15.845</td>\n",
              "      <td>9.915</td>\n",
              "      <td>-5.065</td>\n",
              "      <td>18.285</td>\n",
              "      <td>-15.445</td>\n",
              "      <td>11.395</td>\n",
              "      <td>-6.010</td>\n",
              "      <td>28.765</td>\n",
              "      <td>1.49</td>\n",
              "      <td>0.95</td>\n",
              "      <td>26.325</td>\n",
              "      <td>18.905</td>\n",
              "      <td>29.67</td>\n",
              "      <td>17.875</td>\n",
              "      <td>-7.555</td>\n",
              "      <td>17.290</td>\n",
              "      <td>-20.015</td>\n",
              "      <td>8.415</td>\n",
              "      <td>-10.525</td>\n",
              "      <td>11.930</td>\n",
              "      <td>38.755</td>\n",
              "      <td>-5.005</td>\n",
              "      <td>-21.445</td>\n",
              "      <td>-24.335</td>\n",
              "      <td>14.355</td>\n",
              "      <td>39.200</td>\n",
              "      <td>12.335</td>\n",
              "      <td>7.41</td>\n",
              "      <td>0.0</td>\n",
              "    </tr>\n",
              "    <tr>\n",
              "      <th>4</th>\n",
              "      <td>3451.94</td>\n",
              "      <td>6281.06</td>\n",
              "      <td>6650.54</td>\n",
              "      <td>6858.68</td>\n",
              "      <td>6007.37</td>\n",
              "      <td>5517.95</td>\n",
              "      <td>5729.06</td>\n",
              "      <td>3245.64</td>\n",
              "      <td>5717.88</td>\n",
              "      <td>4116.73</td>\n",
              "      <td>-8.060</td>\n",
              "      <td>3387.26</td>\n",
              "      <td>3122.34</td>\n",
              "      <td>2268.38</td>\n",
              "      <td>2882.63</td>\n",
              "      <td>281.930</td>\n",
              "      <td>2860.16</td>\n",
              "      <td>1748.75</td>\n",
              "      <td>3219.15</td>\n",
              "      <td>314.150</td>\n",
              "      <td>30.420</td>\n",
              "      <td>41.560</td>\n",
              "      <td>785.170</td>\n",
              "      <td>2513.71</td>\n",
              "      <td>5308.86</td>\n",
              "      <td>11.18</td>\n",
              "      <td>542.78</td>\n",
              "      <td>-24.270</td>\n",
              "      <td>442.720</td>\n",
              "      <td>126.530</td>\n",
              "      <td>4939.59</td>\n",
              "      <td>605.62</td>\n",
              "      <td>365.430</td>\n",
              "      <td>2317.04</td>\n",
              "      <td>4614.94</td>\n",
              "      <td>3636.69</td>\n",
              "      <td>1939.55</td>\n",
              "      <td>0.04</td>\n",
              "      <td>3158.30</td>\n",
              "      <td>2503.90</td>\n",
              "      <td>...</td>\n",
              "      <td>9.160</td>\n",
              "      <td>-1.98</td>\n",
              "      <td>21.310</td>\n",
              "      <td>-4.010</td>\n",
              "      <td>-4.010</td>\n",
              "      <td>-13.130</td>\n",
              "      <td>0.040</td>\n",
              "      <td>2.070</td>\n",
              "      <td>-4.010</td>\n",
              "      <td>-13.13</td>\n",
              "      <td>2.070</td>\n",
              "      <td>10.170</td>\n",
              "      <td>-6.030</td>\n",
              "      <td>-13.130</td>\n",
              "      <td>0.040</td>\n",
              "      <td>-25.280</td>\n",
              "      <td>-1.980</td>\n",
              "      <td>-1.980</td>\n",
              "      <td>7.130</td>\n",
              "      <td>0.04</td>\n",
              "      <td>-19.20</td>\n",
              "      <td>14.220</td>\n",
              "      <td>16.250</td>\n",
              "      <td>20.30</td>\n",
              "      <td>11.180</td>\n",
              "      <td>-30.350</td>\n",
              "      <td>-0.970</td>\n",
              "      <td>-6.030</td>\n",
              "      <td>-10.090</td>\n",
              "      <td>-11.100</td>\n",
              "      <td>-12.110</td>\n",
              "      <td>32.450</td>\n",
              "      <td>-16.170</td>\n",
              "      <td>-13.130</td>\n",
              "      <td>-18.190</td>\n",
              "      <td>11.180</td>\n",
              "      <td>14.220</td>\n",
              "      <td>5.110</td>\n",
              "      <td>-8.06</td>\n",
              "      <td>0.0</td>\n",
              "    </tr>\n",
              "    <tr>\n",
              "      <th>...</th>\n",
              "      <td>...</td>\n",
              "      <td>...</td>\n",
              "      <td>...</td>\n",
              "      <td>...</td>\n",
              "      <td>...</td>\n",
              "      <td>...</td>\n",
              "      <td>...</td>\n",
              "      <td>...</td>\n",
              "      <td>...</td>\n",
              "      <td>...</td>\n",
              "      <td>...</td>\n",
              "      <td>...</td>\n",
              "      <td>...</td>\n",
              "      <td>...</td>\n",
              "      <td>...</td>\n",
              "      <td>...</td>\n",
              "      <td>...</td>\n",
              "      <td>...</td>\n",
              "      <td>...</td>\n",
              "      <td>...</td>\n",
              "      <td>...</td>\n",
              "      <td>...</td>\n",
              "      <td>...</td>\n",
              "      <td>...</td>\n",
              "      <td>...</td>\n",
              "      <td>...</td>\n",
              "      <td>...</td>\n",
              "      <td>...</td>\n",
              "      <td>...</td>\n",
              "      <td>...</td>\n",
              "      <td>...</td>\n",
              "      <td>...</td>\n",
              "      <td>...</td>\n",
              "      <td>...</td>\n",
              "      <td>...</td>\n",
              "      <td>...</td>\n",
              "      <td>...</td>\n",
              "      <td>...</td>\n",
              "      <td>...</td>\n",
              "      <td>...</td>\n",
              "      <td>...</td>\n",
              "      <td>...</td>\n",
              "      <td>...</td>\n",
              "      <td>...</td>\n",
              "      <td>...</td>\n",
              "      <td>...</td>\n",
              "      <td>...</td>\n",
              "      <td>...</td>\n",
              "      <td>...</td>\n",
              "      <td>...</td>\n",
              "      <td>...</td>\n",
              "      <td>...</td>\n",
              "      <td>...</td>\n",
              "      <td>...</td>\n",
              "      <td>...</td>\n",
              "      <td>...</td>\n",
              "      <td>...</td>\n",
              "      <td>...</td>\n",
              "      <td>...</td>\n",
              "      <td>...</td>\n",
              "      <td>...</td>\n",
              "      <td>...</td>\n",
              "      <td>...</td>\n",
              "      <td>...</td>\n",
              "      <td>...</td>\n",
              "      <td>...</td>\n",
              "      <td>...</td>\n",
              "      <td>...</td>\n",
              "      <td>...</td>\n",
              "      <td>...</td>\n",
              "      <td>...</td>\n",
              "      <td>...</td>\n",
              "      <td>...</td>\n",
              "      <td>...</td>\n",
              "      <td>...</td>\n",
              "      <td>...</td>\n",
              "      <td>...</td>\n",
              "      <td>...</td>\n",
              "      <td>...</td>\n",
              "      <td>...</td>\n",
              "      <td>...</td>\n",
              "    </tr>\n",
              "    <tr>\n",
              "      <th>198</th>\n",
              "      <td>93.91</td>\n",
              "      <td>49.01</td>\n",
              "      <td>59.62</td>\n",
              "      <td>58.81</td>\n",
              "      <td>157.61</td>\n",
              "      <td>129.02</td>\n",
              "      <td>175.57</td>\n",
              "      <td>-22.80</td>\n",
              "      <td>66.15</td>\n",
              "      <td>50.64</td>\n",
              "      <td>5102.480</td>\n",
              "      <td>44.93</td>\n",
              "      <td>21.26</td>\n",
              "      <td>-5.67</td>\n",
              "      <td>502.96</td>\n",
              "      <td>114.320</td>\n",
              "      <td>492.36</td>\n",
              "      <td>39.22</td>\n",
              "      <td>306.26</td>\n",
              "      <td>339.740</td>\n",
              "      <td>71.050</td>\n",
              "      <td>157.610</td>\n",
              "      <td>127.390</td>\n",
              "      <td>110.24</td>\n",
              "      <td>1834.28</td>\n",
              "      <td>4794.50</td>\n",
              "      <td>127.39</td>\n",
              "      <td>66.150</td>\n",
              "      <td>1769.960</td>\n",
              "      <td>251.540</td>\n",
              "      <td>882.77</td>\n",
              "      <td>66.97</td>\n",
              "      <td>-453.910</td>\n",
              "      <td>2763.26</td>\n",
              "      <td>5606.10</td>\n",
              "      <td>906.14</td>\n",
              "      <td>89.83</td>\n",
              "      <td>3858.52</td>\n",
              "      <td>684.44</td>\n",
              "      <td>2720.99</td>\n",
              "      <td>...</td>\n",
              "      <td>56.360</td>\n",
              "      <td>42.48</td>\n",
              "      <td>72.680</td>\n",
              "      <td>49.010</td>\n",
              "      <td>57.170</td>\n",
              "      <td>44.930</td>\n",
              "      <td>48.200</td>\n",
              "      <td>40.030</td>\n",
              "      <td>42.480</td>\n",
              "      <td>-16.27</td>\n",
              "      <td>44.110</td>\n",
              "      <td>39.220</td>\n",
              "      <td>53.910</td>\n",
              "      <td>37.590</td>\n",
              "      <td>49.010</td>\n",
              "      <td>-5.670</td>\n",
              "      <td>53.090</td>\n",
              "      <td>37.590</td>\n",
              "      <td>49.830</td>\n",
              "      <td>37.59</td>\n",
              "      <td>35.14</td>\n",
              "      <td>64.520</td>\n",
              "      <td>46.560</td>\n",
              "      <td>50.64</td>\n",
              "      <td>52.280</td>\n",
              "      <td>35.140</td>\n",
              "      <td>60.440</td>\n",
              "      <td>13.920</td>\n",
              "      <td>49.010</td>\n",
              "      <td>33.500</td>\n",
              "      <td>27.790</td>\n",
              "      <td>67.790</td>\n",
              "      <td>40.850</td>\n",
              "      <td>14.730</td>\n",
              "      <td>24.530</td>\n",
              "      <td>44.110</td>\n",
              "      <td>47.380</td>\n",
              "      <td>44.110</td>\n",
              "      <td>0.86</td>\n",
              "      <td>4.0</td>\n",
              "    </tr>\n",
              "    <tr>\n",
              "      <th>199</th>\n",
              "      <td>16.89</td>\n",
              "      <td>654.77</td>\n",
              "      <td>1061.54</td>\n",
              "      <td>1037.14</td>\n",
              "      <td>1859.65</td>\n",
              "      <td>1660.98</td>\n",
              "      <td>1604.02</td>\n",
              "      <td>209.03</td>\n",
              "      <td>781.84</td>\n",
              "      <td>6.12</td>\n",
              "      <td>6516.340</td>\n",
              "      <td>440.81</td>\n",
              "      <td>307.31</td>\n",
              "      <td>82.28</td>\n",
              "      <td>2089.65</td>\n",
              "      <td>54.960</td>\n",
              "      <td>2148.22</td>\n",
              "      <td>-18.28</td>\n",
              "      <td>1610.60</td>\n",
              "      <td>1552.040</td>\n",
              "      <td>72.210</td>\n",
              "      <td>1187.260</td>\n",
              "      <td>480.850</td>\n",
              "      <td>151.36</td>\n",
              "      <td>3482.13</td>\n",
              "      <td>5432.41</td>\n",
              "      <td>265.36</td>\n",
              "      <td>4253.070</td>\n",
              "      <td>4288.710</td>\n",
              "      <td>965.460</td>\n",
              "      <td>2931.47</td>\n",
              "      <td>485.95</td>\n",
              "      <td>-412.290</td>\n",
              "      <td>2997.61</td>\n",
              "      <td>6256.05</td>\n",
              "      <td>2930.82</td>\n",
              "      <td>97.38</td>\n",
              "      <td>3323.16</td>\n",
              "      <td>2408.08</td>\n",
              "      <td>2869.99</td>\n",
              "      <td>...</td>\n",
              "      <td>-9.670</td>\n",
              "      <td>-11.82</td>\n",
              "      <td>-2.490</td>\n",
              "      <td>-3.930</td>\n",
              "      <td>-19.720</td>\n",
              "      <td>-26.180</td>\n",
              "      <td>-15.410</td>\n",
              "      <td>-1.060</td>\n",
              "      <td>-6.080</td>\n",
              "      <td>-21.87</td>\n",
              "      <td>-16.130</td>\n",
              "      <td>1.810</td>\n",
              "      <td>-7.520</td>\n",
              "      <td>-23.310</td>\n",
              "      <td>-6.800</td>\n",
              "      <td>-14.690</td>\n",
              "      <td>-8.240</td>\n",
              "      <td>-26.890</td>\n",
              "      <td>8.990</td>\n",
              "      <td>-16.85</td>\n",
              "      <td>-32.64</td>\n",
              "      <td>0.380</td>\n",
              "      <td>-5.360</td>\n",
              "      <td>14.02</td>\n",
              "      <td>-8.240</td>\n",
              "      <td>-31.200</td>\n",
              "      <td>-4.650</td>\n",
              "      <td>-39.810</td>\n",
              "      <td>-8.950</td>\n",
              "      <td>-31.200</td>\n",
              "      <td>-8.240</td>\n",
              "      <td>16.890</td>\n",
              "      <td>-28.330</td>\n",
              "      <td>-31.200</td>\n",
              "      <td>-34.790</td>\n",
              "      <td>-11.820</td>\n",
              "      <td>-0.340</td>\n",
              "      <td>-1.060</td>\n",
              "      <td>-34.79</td>\n",
              "      <td>4.0</td>\n",
              "    </tr>\n",
              "    <tr>\n",
              "      <th>200</th>\n",
              "      <td>52.03</td>\n",
              "      <td>-1.69</td>\n",
              "      <td>5.24</td>\n",
              "      <td>11.30</td>\n",
              "      <td>59.83</td>\n",
              "      <td>28.63</td>\n",
              "      <td>60.70</td>\n",
              "      <td>-51.04</td>\n",
              "      <td>-21.61</td>\n",
              "      <td>17.37</td>\n",
              "      <td>7033.530</td>\n",
              "      <td>-4.29</td>\n",
              "      <td>23.43</td>\n",
              "      <td>-64.03</td>\n",
              "      <td>277.72</td>\n",
              "      <td>98.850</td>\n",
              "      <td>324.65</td>\n",
              "      <td>13.04</td>\n",
              "      <td>571.42</td>\n",
              "      <td>1900.190</td>\n",
              "      <td>292.490</td>\n",
              "      <td>145.700</td>\n",
              "      <td>137.890</td>\n",
              "      <td>89.31</td>\n",
              "      <td>2611.04</td>\n",
              "      <td>69.37</td>\n",
              "      <td>79.77</td>\n",
              "      <td>4707.510</td>\n",
              "      <td>1440.310</td>\n",
              "      <td>1086.530</td>\n",
              "      <td>1712.26</td>\n",
              "      <td>2157.00</td>\n",
              "      <td>-428.720</td>\n",
              "      <td>2342.05</td>\n",
              "      <td>4752.30</td>\n",
              "      <td>828.45</td>\n",
              "      <td>65.90</td>\n",
              "      <td>1107.81</td>\n",
              "      <td>1422.84</td>\n",
              "      <td>2136.16</td>\n",
              "      <td>...</td>\n",
              "      <td>26.030</td>\n",
              "      <td>13.90</td>\n",
              "      <td>31.230</td>\n",
              "      <td>14.770</td>\n",
              "      <td>-0.820</td>\n",
              "      <td>6.110</td>\n",
              "      <td>15.630</td>\n",
              "      <td>4.370</td>\n",
              "      <td>6.970</td>\n",
              "      <td>13.04</td>\n",
              "      <td>6.970</td>\n",
              "      <td>11.300</td>\n",
              "      <td>17.370</td>\n",
              "      <td>6.110</td>\n",
              "      <td>16.500</td>\n",
              "      <td>-18.150</td>\n",
              "      <td>32.100</td>\n",
              "      <td>2.640</td>\n",
              "      <td>8.700</td>\n",
              "      <td>4.37</td>\n",
              "      <td>-17.28</td>\n",
              "      <td>27.760</td>\n",
              "      <td>17.370</td>\n",
              "      <td>32.10</td>\n",
              "      <td>13.900</td>\n",
              "      <td>7.840</td>\n",
              "      <td>17.370</td>\n",
              "      <td>-2.560</td>\n",
              "      <td>3.510</td>\n",
              "      <td>-4.290</td>\n",
              "      <td>19.970</td>\n",
              "      <td>36.430</td>\n",
              "      <td>-1.690</td>\n",
              "      <td>-10.350</td>\n",
              "      <td>-19.010</td>\n",
              "      <td>19.100</td>\n",
              "      <td>15.630</td>\n",
              "      <td>17.370</td>\n",
              "      <td>-16.41</td>\n",
              "      <td>4.0</td>\n",
              "    </tr>\n",
              "    <tr>\n",
              "      <th>201</th>\n",
              "      <td>2884.85</td>\n",
              "      <td>2295.36</td>\n",
              "      <td>3991.99</td>\n",
              "      <td>3229.07</td>\n",
              "      <td>6117.54</td>\n",
              "      <td>5955.76</td>\n",
              "      <td>5675.30</td>\n",
              "      <td>835.80</td>\n",
              "      <td>2718.46</td>\n",
              "      <td>2933.17</td>\n",
              "      <td>3141.200</td>\n",
              "      <td>1609.31</td>\n",
              "      <td>1550.37</td>\n",
              "      <td>521.32</td>\n",
              "      <td>918.07</td>\n",
              "      <td>165.390</td>\n",
              "      <td>976.11</td>\n",
              "      <td>895.73</td>\n",
              "      <td>1735.00</td>\n",
              "      <td>124.380</td>\n",
              "      <td>76.290</td>\n",
              "      <td>290.380</td>\n",
              "      <td>187.690</td>\n",
              "      <td>658.45</td>\n",
              "      <td>2778.71</td>\n",
              "      <td>46.04</td>\n",
              "      <td>464.88</td>\n",
              "      <td>145.770</td>\n",
              "      <td>323.460</td>\n",
              "      <td>-23.310</td>\n",
              "      <td>4345.35</td>\n",
              "      <td>164.50</td>\n",
              "      <td>556.270</td>\n",
              "      <td>2211.39</td>\n",
              "      <td>5448.92</td>\n",
              "      <td>2827.11</td>\n",
              "      <td>701.47</td>\n",
              "      <td>596.61</td>\n",
              "      <td>4587.02</td>\n",
              "      <td>2375.30</td>\n",
              "      <td>...</td>\n",
              "      <td>41.590</td>\n",
              "      <td>16.69</td>\n",
              "      <td>38.920</td>\n",
              "      <td>28.250</td>\n",
              "      <td>1.570</td>\n",
              "      <td>11.350</td>\n",
              "      <td>19.350</td>\n",
              "      <td>34.470</td>\n",
              "      <td>20.240</td>\n",
              "      <td>14.02</td>\n",
              "      <td>10.460</td>\n",
              "      <td>28.250</td>\n",
              "      <td>32.690</td>\n",
              "      <td>9.570</td>\n",
              "      <td>29.140</td>\n",
              "      <td>-5.540</td>\n",
              "      <td>28.250</td>\n",
              "      <td>26.470</td>\n",
              "      <td>54.930</td>\n",
              "      <td>17.58</td>\n",
              "      <td>-25.09</td>\n",
              "      <td>23.800</td>\n",
              "      <td>36.250</td>\n",
              "      <td>46.93</td>\n",
              "      <td>37.140</td>\n",
              "      <td>-2.870</td>\n",
              "      <td>56.710</td>\n",
              "      <td>-19.760</td>\n",
              "      <td>35.360</td>\n",
              "      <td>18.460</td>\n",
              "      <td>23.800</td>\n",
              "      <td>43.370</td>\n",
              "      <td>2.460</td>\n",
              "      <td>-14.420</td>\n",
              "      <td>-17.090</td>\n",
              "      <td>29.140</td>\n",
              "      <td>29.140</td>\n",
              "      <td>19.350</td>\n",
              "      <td>5.13</td>\n",
              "      <td>4.0</td>\n",
              "    </tr>\n",
              "    <tr>\n",
              "      <th>202</th>\n",
              "      <td>70.55</td>\n",
              "      <td>-84.07</td>\n",
              "      <td>-7.53</td>\n",
              "      <td>14.87</td>\n",
              "      <td>215.57</td>\n",
              "      <td>121.23</td>\n",
              "      <td>202.49</td>\n",
              "      <td>-63.14</td>\n",
              "      <td>4.03</td>\n",
              "      <td>27.15</td>\n",
              "      <td>1930.130</td>\n",
              "      <td>-16.93</td>\n",
              "      <td>-19.09</td>\n",
              "      <td>-86.95</td>\n",
              "      <td>484.36</td>\n",
              "      <td>63.310</td>\n",
              "      <td>535.06</td>\n",
              "      <td>-1.03</td>\n",
              "      <td>260.66</td>\n",
              "      <td>191.600</td>\n",
              "      <td>506.390</td>\n",
              "      <td>382.510</td>\n",
              "      <td>119.060</td>\n",
              "      <td>112.54</td>\n",
              "      <td>2769.17</td>\n",
              "      <td>3284.11</td>\n",
              "      <td>1.14</td>\n",
              "      <td>3740.090</td>\n",
              "      <td>464.540</td>\n",
              "      <td>141.530</td>\n",
              "      <td>937.56</td>\n",
              "      <td>313.86</td>\n",
              "      <td>-623.140</td>\n",
              "      <td>2546.35</td>\n",
              "      <td>5295.22</td>\n",
              "      <td>1155.53</td>\n",
              "      <td>85.75</td>\n",
              "      <td>4100.62</td>\n",
              "      <td>866.99</td>\n",
              "      <td>2554.43</td>\n",
              "      <td>...</td>\n",
              "      <td>10.530</td>\n",
              "      <td>16.31</td>\n",
              "      <td>16.310</td>\n",
              "      <td>6.190</td>\n",
              "      <td>-8.980</td>\n",
              "      <td>-14.760</td>\n",
              "      <td>-5.370</td>\n",
              "      <td>0.410</td>\n",
              "      <td>-19.090</td>\n",
              "      <td>-14.76</td>\n",
              "      <td>-3.920</td>\n",
              "      <td>0.410</td>\n",
              "      <td>-4.640</td>\n",
              "      <td>-4.640</td>\n",
              "      <td>-6.090</td>\n",
              "      <td>-24.150</td>\n",
              "      <td>5.470</td>\n",
              "      <td>-20.540</td>\n",
              "      <td>13.420</td>\n",
              "      <td>-19.81</td>\n",
              "      <td>-19.81</td>\n",
              "      <td>12.700</td>\n",
              "      <td>-2.480</td>\n",
              "      <td>30.77</td>\n",
              "      <td>-3.920</td>\n",
              "      <td>-34.260</td>\n",
              "      <td>22.090</td>\n",
              "      <td>-16.200</td>\n",
              "      <td>17.760</td>\n",
              "      <td>-22.700</td>\n",
              "      <td>6.920</td>\n",
              "      <td>17.760</td>\n",
              "      <td>-27.760</td>\n",
              "      <td>-24.870</td>\n",
              "      <td>-21.260</td>\n",
              "      <td>10.530</td>\n",
              "      <td>20.650</td>\n",
              "      <td>32.940</td>\n",
              "      <td>-33.54</td>\n",
              "      <td>4.0</td>\n",
              "    </tr>\n",
              "  </tbody>\n",
              "</table>\n",
              "<p>203 rows × 12601 columns</p>\n",
              "</div>"
            ],
            "text/plain": [
              "     38691_s_at   37864_s_at   33273_f_at   ...  40571_at   36312_at   label\n",
              "0          63.20      4196.25      3306.35  ...      4.060     -19.41    0.0\n",
              "1         965.47      6207.61      7077.04  ...     11.240       8.06    0.0\n",
              "2        2940.51      6858.12      6927.79  ...      6.920     -11.09    0.0\n",
              "3          64.07      7016.91      7132.05  ...     12.335       7.41    0.0\n",
              "4        3451.94      6281.06      6650.54  ...      5.110      -8.06    0.0\n",
              "..           ...          ...          ...  ...        ...        ...    ...\n",
              "198        93.91        49.01        59.62  ...     44.110       0.86    4.0\n",
              "199        16.89       654.77      1061.54  ...     -1.060     -34.79    4.0\n",
              "200        52.03        -1.69         5.24  ...     17.370     -16.41    4.0\n",
              "201      2884.85      2295.36      3991.99  ...     19.350       5.13    4.0\n",
              "202        70.55       -84.07        -7.53  ...     32.940     -33.54    4.0\n",
              "\n",
              "[203 rows x 12601 columns]"
            ]
          },
          "metadata": {
            "tags": []
          },
          "execution_count": 3
        }
      ]
    },
    {
      "cell_type": "markdown",
      "metadata": {
        "id": "WNGdoD1emXoW"
      },
      "source": [
        "# Hierarchical Clustering"
      ]
    },
    {
      "cell_type": "markdown",
      "metadata": {
        "id": "uVZDMHyvf_W2"
      },
      "source": [
        "# Decision Trees"
      ]
    },
    {
      "cell_type": "code",
      "metadata": {
        "colab": {
          "base_uri": "https://localhost:8080/"
        },
        "id": "EAmcJdF03bZJ",
        "outputId": "da3ee32f-3195-49b1-c376-64cde7cd9628"
      },
      "source": [
        "from sklearn.metrics import accuracy_score\n",
        "# Here, you can set criterion = \"entropy\" or \"gini\", which will determine\n",
        "# what equation the decision tree will use to measure the quality of a split\n",
        "#\n",
        "# You can set max_features=None, \"sqrt\", or \"log2\", which will determine how many\n",
        "# features the decision tree will use. Setting it to None will use all the features,\n",
        "# sqrt will use sqrt(number of features) and log2 will use log2(number of features)\n",
        "#\n",
        "# Play around! What settings are best? Do they change for the different data sets?\n",
        "decision_tree = tree.DecisionTreeClassifier(criterion=\"entropy\", max_features=None)\n",
        "\n",
        "\n",
        "X = data.loc[:, data.columns != 'label'] #Remove the label column\n",
        "y = np.asarray(data.label)\n",
        "\n",
        "# Partition the dataset into train and test\n",
        "X_train, X_test, y_train, y_test = train_test_split(X, y, train_size=0.8) #With this, it will get all correct!\n",
        "\n",
        "# Train the classifier\n",
        "decision_tree.fit(X_train, y_train)\n",
        "\n",
        "predictions_1 = decision_tree.predict(X_train)\n",
        "\n",
        "print(accuracy_score(y_train, predictions_1))"
      ],
      "execution_count": null,
      "outputs": [
        {
          "output_type": "stream",
          "text": [
            "1.0\n"
          ],
          "name": "stdout"
        }
      ]
    },
    {
      "cell_type": "code",
      "metadata": {
        "colab": {
          "base_uri": "https://localhost:8080/",
          "height": 893
        },
        "id": "92mZ8IUy4RJI",
        "outputId": "c8fecb59-36fe-4ef5-92f8-d761c901a122"
      },
      "source": [
        "plt.figure(figsize=(24,12))\n",
        "tree.plot_tree(decision_tree, fontsize=16)"
      ],
      "execution_count": null,
      "outputs": [
        {
          "output_type": "execute_result",
          "data": {
            "text/plain": [
              "[Text(852.2181818181818, 587.0880000000001, 'X[461] <= 275.07\\nentropy = 1.457\\nsamples = 162\\nvalue = [113, 13, 5, 15, 16]'),\n",
              " Text(608.7272727272727, 456.624, 'X[2176] <= 94.665\\nentropy = 0.917\\nsamples = 141\\nvalue = [113, 13, 0, 15, 0]'),\n",
              " Text(486.9818181818182, 326.1600000000001, 'X[688] <= 268.007\\nentropy = 0.521\\nsamples = 128\\nvalue = [113, 0, 0, 15, 0]'),\n",
              " Text(243.4909090909091, 195.69600000000003, 'X[464] <= 1067.3\\nentropy = 0.127\\nsamples = 114\\nvalue = [112, 0, 0, 2, 0]'),\n",
              " Text(121.74545454545455, 65.23200000000008, 'entropy = 0.0\\nsamples = 112\\nvalue = [112, 0, 0, 0, 0]'),\n",
              " Text(365.23636363636365, 65.23200000000008, 'entropy = 0.0\\nsamples = 2\\nvalue = [0, 0, 0, 2, 0]'),\n",
              " Text(730.4727272727273, 195.69600000000003, 'X[6201] <= 116.6\\nentropy = 0.371\\nsamples = 14\\nvalue = [1, 0, 0, 13, 0]'),\n",
              " Text(608.7272727272727, 65.23200000000008, 'entropy = 0.0\\nsamples = 13\\nvalue = [0, 0, 0, 13, 0]'),\n",
              " Text(852.2181818181818, 65.23200000000008, 'entropy = 0.0\\nsamples = 1\\nvalue = [1, 0, 0, 0, 0]'),\n",
              " Text(730.4727272727273, 326.1600000000001, 'entropy = 0.0\\nsamples = 13\\nvalue = [0, 13, 0, 0, 0]'),\n",
              " Text(1095.709090909091, 456.624, 'X[1467] <= 401.435\\nentropy = 0.792\\nsamples = 21\\nvalue = [0, 0, 5, 0, 16]'),\n",
              " Text(973.9636363636364, 326.1600000000001, 'entropy = 0.0\\nsamples = 5\\nvalue = [0, 0, 5, 0, 0]'),\n",
              " Text(1217.4545454545455, 326.1600000000001, 'entropy = 0.0\\nsamples = 16\\nvalue = [0, 0, 0, 0, 16]')]"
            ]
          },
          "metadata": {
            "tags": []
          },
          "execution_count": 26
        },
        {
          "output_type": "display_data",
          "data": {
            "image/png": "[encoded data removed]",
            "text/plain": [
              "<Figure size 1728x864 with 1 Axes>"
            ]
          },
          "metadata": {
            "tags": [],
            "needs_background": "light"
          }
        }
      ]
    },
    {
      "cell_type": "code",
      "metadata": {
        "colab": {
          "base_uri": "https://localhost:8080/"
        },
        "id": "RYN6e63N3fKH",
        "outputId": "ffd6320a-c92b-4058-835c-e329471faa04"
      },
      "source": [
        "test = np.asarray(X_train.iloc[:, 845])\n",
        "print(test)\n",
        "I = [i for i in range(len(test)) if test[i] <= 887.0]\n",
        "print(y_train[I])"
      ],
      "execution_count": null,
      "outputs": [
        {
          "output_type": "stream",
          "text": [
            "[262.195 311.51  146.32   42.34  460.46  234.83  310.8   219.77  352.48\n",
            " 171.67  302.16  469.3    81.16   49.08  233.32  373.51  493.41  110.08\n",
            " 256.195 722.49  244.285 384.27   68.97   60.93  243.24  382.04  129.94\n",
            " 192.06   71.31  107.74  176.2   453.68  181.63  218.43   62.155 601.615\n",
            " 404.498 568.06  398.31  138.72   65.36   83.56  162.86  617.77  207.53\n",
            " 559.11  782.2   444.045 225.25  369.97  122.66   35.36  225.67  213.86\n",
            "  92.63  134.95  418.55  744.377 335.915 405.96  407.28  352.96   96.76\n",
            " 405.14  456.975 500.95  176.19  309.11  258.04  164.33  412.05  201.17\n",
            " 125.52  530.12  147.65  557.075 237.92  205.65  292.87  402.63  203.27\n",
            " 300.81  538.69  356.76  365.41  800.27  391.345 250.725 355.91  472.12\n",
            " 137.68  123.72  737.95  -38.19  105.77  553.34  326.69  645.47   91.4\n",
            " 348.84  496.7   220.16  410.15  286.23  600.785 257.17  294.515  76.52\n",
            " 289.81  116.84  401.63   35.97  348.26  414.595 338.425 158.37  357.74\n",
            " 405.98  179.02  291.37  239.58  205.26  127.44  215.43  401.68  326.07\n",
            " 571.85  324.49  484.24    9.81  491.11  737.06  340.3   327.46   23.52\n",
            "  78.585 363.81  265.45  171.69  403.04  201.7   591.17  164.8    44.69\n",
            " 258.16   78.36  286.63  415.94  308.18  398.64  298.87   56.71  359.93\n",
            " 250.105 207.69  180.695 262.8   175.075 181.48  321.85  343.51   41.04 ]\n",
            "[0. 0. 0. 2. 0. 0. 0. 4. 3. 0. 0. 0. 3. 0. 0. 1. 0. 3. 0. 0. 0. 0. 4. 4.\n",
            " 3. 0. 4. 0. 3. 4. 0. 0. 4. 0. 0. 0. 0. 0. 0. 0. 3. 2. 0. 0. 4. 0. 0. 0.\n",
            " 0. 0. 0. 4. 0. 0. 2. 3. 3. 0. 0. 1. 0. 1. 3. 0. 0. 0. 3. 0. 0. 0. 0. 0.\n",
            " 1. 0. 4. 0. 0. 0. 0. 1. 0. 0. 0. 1. 0. 0. 0. 0. 0. 0. 3. 4. 0. 2. 4. 1.\n",
            " 0. 0. 3. 1. 0. 0. 1. 0. 0. 0. 0. 0. 0. 0. 1. 3. 0. 0. 0. 0. 0. 0. 4. 0.\n",
            " 2. 0. 0. 0. 0. 0. 1. 0. 0. 4. 1. 0. 0. 0. 4. 0. 1. 0. 0. 0. 3. 0. 0. 3.\n",
            " 0. 0. 0. 0. 0. 0. 0. 4. 0. 0. 0. 0. 0. 0. 0. 0. 0. 4.]\n"
          ],
          "name": "stdout"
        }
      ]
    },
    {
      "cell_type": "code",
      "metadata": {
        "colab": {
          "base_uri": "https://localhost:8080/"
        },
        "id": "naiJo4aw3g4s",
        "outputId": "9ab8c0a5-327b-4557-e1bf-973f281dae5e"
      },
      "source": [
        "predictions = decision_tree.predict(X_test)\n",
        "\n",
        "print(accuracy_score(y_test, predictions))"
      ],
      "execution_count": null,
      "outputs": [
        {
          "output_type": "stream",
          "text": [
            "0.9512195121951219\n"
          ],
          "name": "stdout"
        }
      ]
    },
    {
      "cell_type": "code",
      "metadata": {
        "id": "ppkRM8g860gC"
      },
      "source": [
        "# The 6 genes that the decision tree chose to use are 32650_at, 38177_at, 31791_at, 36174_at, 37333_at, and 40412_at."
      ],
      "execution_count": null,
      "outputs": []
    },
    {
      "cell_type": "code",
      "metadata": {
        "colab": {
          "base_uri": "https://localhost:8080/"
        },
        "id": "naBZSF3e4JAs",
        "outputId": "c54b2767-6b88-4090-e3b9-a1cbf9920fc6"
      },
      "source": [
        "X.iloc[:,461]"
      ],
      "execution_count": null,
      "outputs": [
        {
          "output_type": "execute_result",
          "data": {
            "text/plain": [
              "0       133.81\n",
              "1        88.75\n",
              "2        82.01\n",
              "3        48.17\n",
              "4        74.96\n",
              "        ...   \n",
              "198    2125.99\n",
              "199     865.08\n",
              "200     298.58\n",
              "201     344.92\n",
              "202     947.96\n",
              "Name: 32650_at , Length: 203, dtype: float64"
            ]
          },
          "metadata": {
            "tags": []
          },
          "execution_count": 27
        }
      ]
    },
    {
      "cell_type": "code",
      "metadata": {
        "colab": {
          "base_uri": "https://localhost:8080/"
        },
        "id": "Ekp4yAlh5-vv",
        "outputId": "25f7ae1f-a6a8-4cc7-e9f8-9bd3a4f8459b"
      },
      "source": [
        "X.iloc[:,2176]"
      ],
      "execution_count": null,
      "outputs": [
        {
          "output_type": "execute_result",
          "data": {
            "text/plain": [
              "0     -36.40\n",
              "1      10.18\n",
              "2      19.90\n",
              "3      -1.69\n",
              "4      -9.07\n",
              "       ...  \n",
              "198    -2.40\n",
              "199    93.06\n",
              "200    21.70\n",
              "201   -12.65\n",
              "202   -29.20\n",
              "Name: 38177_at , Length: 203, dtype: float64"
            ]
          },
          "metadata": {
            "tags": []
          },
          "execution_count": 28
        }
      ]
    },
    {
      "cell_type": "code",
      "metadata": {
        "colab": {
          "base_uri": "https://localhost:8080/"
        },
        "id": "1vZ-D3Ic6SUB",
        "outputId": "7ca1d6c3-c8c4-421a-df43-9e6bb213704c"
      },
      "source": [
        "X.iloc[:,688]"
      ],
      "execution_count": null,
      "outputs": [
        {
          "output_type": "execute_result",
          "data": {
            "text/plain": [
              "0       3.250\n",
              "1      10.180\n",
              "2       2.690\n",
              "3      13.325\n",
              "4       8.150\n",
              "        ...  \n",
              "198    44.930\n",
              "199     3.250\n",
              "200    29.500\n",
              "201    70.060\n",
              "202     7.640\n",
              "Name: 31791_at , Length: 203, dtype: float64"
            ]
          },
          "metadata": {
            "tags": []
          },
          "execution_count": 29
        }
      ]
    },
    {
      "cell_type": "code",
      "metadata": {
        "colab": {
          "base_uri": "https://localhost:8080/"
        },
        "id": "cJu_Vsxv6SKN",
        "outputId": "f422f95c-031c-4c1c-f761-5e820e87abd7"
      },
      "source": [
        "X.iloc[:,581]"
      ],
      "execution_count": null,
      "outputs": [
        {
          "output_type": "execute_result",
          "data": {
            "text/plain": [
              "0      816.67\n",
              "1      445.46\n",
              "2      661.21\n",
              "3      552.05\n",
              "4      511.80\n",
              "        ...  \n",
              "198    488.28\n",
              "199    561.83\n",
              "200    211.69\n",
              "201    542.83\n",
              "202    322.61\n",
              "Name: 36174_at , Length: 203, dtype: float64"
            ]
          },
          "metadata": {
            "tags": []
          },
          "execution_count": 30
        }
      ]
    },
    {
      "cell_type": "code",
      "metadata": {
        "colab": {
          "base_uri": "https://localhost:8080/"
        },
        "id": "TbL2IfSj6R51",
        "outputId": "43beed97-c4e6-4e1d-d691-7376abfd4105"
      },
      "source": [
        "X.iloc[:,3934]"
      ],
      "execution_count": null,
      "outputs": [
        {
          "output_type": "execute_result",
          "data": {
            "text/plain": [
              "0       50.230\n",
              "1       67.520\n",
              "2       39.340\n",
              "3      135.445\n",
              "4       46.620\n",
              "        ...   \n",
              "198     85.750\n",
              "199     45.620\n",
              "200     45.100\n",
              "201     73.620\n",
              "202     63.310\n",
              "Name: 37333_at , Length: 203, dtype: float64"
            ]
          },
          "metadata": {
            "tags": []
          },
          "execution_count": 31
        }
      ]
    },
    {
      "cell_type": "code",
      "metadata": {
        "colab": {
          "base_uri": "https://localhost:8080/"
        },
        "id": "WOXYsK106RrS",
        "outputId": "986c4615-8e78-4a87-c4ba-8d816466ea7d"
      },
      "source": [
        "X.iloc[:,1374]"
      ],
      "execution_count": null,
      "outputs": [
        {
          "output_type": "execute_result",
          "data": {
            "text/plain": [
              "0       59.960\n",
              "1       72.830\n",
              "2       22.285\n",
              "3      183.210\n",
              "4       32.450\n",
              "        ...   \n",
              "198     60.440\n",
              "199     29.100\n",
              "200      2.640\n",
              "201    121.710\n",
              "202      9.080\n",
              "Name: 40412_at , Length: 203, dtype: float64"
            ]
          },
          "metadata": {
            "tags": []
          },
          "execution_count": 32
        }
      ]
    },
    {
      "cell_type": "code",
      "metadata": {
        "id": "tqTQdF2Hjd2a"
      },
      "source": [
        "# K-Means Clustering\n",
        "from sklearn.cluster import KMeans\n",
        "random_state = 42\n",
        "X = data.drop('label', axis = 1)\n",
        "y = data.label"
      ],
      "execution_count": null,
      "outputs": []
    },
    {
      "cell_type": "code",
      "metadata": {
        "id": "ZyewtdJyptfg"
      },
      "source": [
        "kmeans_clf = KMeans(n_clusters=5, random_state=random_state)\n",
        "y_pred = kmeans_clf.fit_predict(X.iloc[:,461:2176])"
      ],
      "execution_count": null,
      "outputs": []
    },
    {
      "cell_type": "code",
      "metadata": {
        "colab": {
          "base_uri": "https://localhost:8080/"
        },
        "id": "LIo3-xFnZkcQ",
        "outputId": "d705ec70-bf1d-45c6-90ed-f384f173c65d"
      },
      "source": [
        "from sklearn.metrics import accuracy_score\n",
        "\n",
        "print(accuracy_score(y, y_pred))"
      ],
      "execution_count": null,
      "outputs": [
        {
          "output_type": "stream",
          "text": [
            "0.12315270935960591\n"
          ],
          "name": "stdout"
        }
      ]
    },
    {
      "cell_type": "code",
      "metadata": {
        "colab": {
          "base_uri": "https://localhost:8080/",
          "height": 530
        },
        "id": "awSDg73-qz4r",
        "outputId": "2ca9f1a7-c1c1-4b6f-ca00-e96188d3760a"
      },
      "source": [
        "plt.figure(figsize=(8, 8))\n",
        "plt.scatter(X.iloc[:, 461], X.iloc[:, 2176], c=y_pred)\n",
        "plt.xlabel('x')\n",
        "plt.ylabel('y')\n",
        "plt.title('Lung Cancer Dataset Prediction')"
      ],
      "execution_count": null,
      "outputs": [
        {
          "output_type": "execute_result",
          "data": {
            "text/plain": [
              "Text(0.5, 1.0, 'Lung Cancer Dataset Prediction')"
            ]
          },
          "metadata": {
            "tags": []
          },
          "execution_count": 11
        },
        {
          "output_type": "display_data",
          "data": {
            "image/png": "[encoded data removed]",
            "text/plain": [
              "<Figure size 576x576 with 1 Axes>"
            ]
          },
          "metadata": {
            "tags": [],
            "needs_background": "light"
          }
        }
      ]
    },
    {
      "cell_type": "code",
      "metadata": {
        "colab": {
          "base_uri": "https://localhost:8080/",
          "height": 530
        },
        "id": "tqhYpucCq6m5",
        "outputId": "7a1fd4ca-4fbf-40bb-9498-e9c67885a102"
      },
      "source": [
        "plt.figure(figsize=(8, 8))\n",
        "plt.scatter(X.iloc[:, 461], X.iloc[:, 2176], c=y)\n",
        "plt.xlabel('x')\n",
        "plt.ylabel('y')\n",
        "plt.title('Lung Cancer Dataset Ground-Truth')"
      ],
      "execution_count": null,
      "outputs": [
        {
          "output_type": "execute_result",
          "data": {
            "text/plain": [
              "Text(0.5, 1.0, 'Lung Cancer Dataset Ground-Truth')"
            ]
          },
          "metadata": {
            "tags": []
          },
          "execution_count": 12
        },
        {
          "output_type": "display_data",
          "data": {
            "image/png": "[encoded data removed]",
            "text/plain": [
              "<Figure size 576x576 with 1 Axes>"
            ]
          },
          "metadata": {
            "tags": [],
            "needs_background": "light"
          }
        }
      ]
    },
    {
      "cell_type": "code",
      "metadata": {
        "id": "oLt0mwulspX0",
        "colab": {
          "base_uri": "https://localhost:8080/"
        },
        "outputId": "550ad828-daf6-4611-9d1a-249e274d13fc"
      },
      "source": [
        "from sklearn.metrics import accuracy_score\n",
        "X = data.drop(columns =\"label\")\n",
        "y = data.label\n",
        "X_train, X_test, y_train, y_test = train_test_split(X, y, test_size=0.25, random_state=42)\n",
        "# Random forest\n",
        "from sklearn.ensemble import RandomForestClassifier\n",
        "# let's grow 1000 trees\n",
        "clf = RandomForestClassifier(n_estimators=1000)\n",
        "clf.fit(X_train, y_train)\n",
        "\n",
        "classified_samples= clf.predict(X_test)\n",
        "print(accuracy_score(y_test, classified_samples))"
      ],
      "execution_count": null,
      "outputs": [
        {
          "output_type": "stream",
          "text": [
            "0.9215686274509803\n"
          ],
          "name": "stdout"
        }
      ]
    },
    {
      "cell_type": "markdown",
      "metadata": {
        "id": "3Us19ZaoyIDm"
      },
      "source": [
        "# SVM"
      ]
    },
    {
      "cell_type": "code",
      "metadata": {
        "id": "RM7GTP6WMisM",
        "colab": {
          "base_uri": "https://localhost:8080/"
        },
        "outputId": "697a661a-8dd2-4528-ce84-9f432971f3f4"
      },
      "source": [
        "from sklearn.metrics import accuracy_score\n",
        "X = data.drop(columns =\"label\")\n",
        "y = data.label\n",
        "X_train, X_test, y_train, y_test = train_test_split(X, y, test_size=0.25)\n",
        "\n",
        "from sklearn.svm import SVC\n",
        "classifier = SVC(kernel='rbf', random_state = 42)\n",
        "classifier.fit(X_train,y_train)\n",
        "\n",
        "y_pred_SVC = classifier.predict(X_test)\n",
        "print(accuracy_score(y_test, y_pred_SVC))"
      ],
      "execution_count": null,
      "outputs": [
        {
          "output_type": "stream",
          "text": [
            "0.8823529411764706\n"
          ],
          "name": "stdout"
        }
      ]
    },
    {
      "cell_type": "code",
      "metadata": {
        "colab": {
          "base_uri": "https://localhost:8080/"
        },
        "id": "pDgQPlEqKGf8",
        "outputId": "69595979-bcf8-42cf-e224-c22886710c19"
      },
      "source": [
        "print(accuracy_score(y_test, y_pred_SVC))"
      ],
      "execution_count": null,
      "outputs": [
        {
          "output_type": "stream",
          "text": [
            "0.8823529411764706\n"
          ],
          "name": "stdout"
        }
      ]
    },
    {
      "cell_type": "code",
      "metadata": {
        "id": "tt1XtQVmVNq4"
      },
      "source": [
        "from sklearn.decomposition import PCA\n",
        "X_pca = PCA(n_components=2).fit_transform(X)\n",
        "X_train_2, X_test_2, y_train_2, y_test_2 = train_test_split(X_pca, y, test_size=0.25)"
      ],
      "execution_count": null,
      "outputs": []
    },
    {
      "cell_type": "code",
      "metadata": {
        "id": "KUWbZRrBKd2K",
        "colab": {
          "base_uri": "https://localhost:8080/"
        },
        "outputId": "3ce05da1-7882-4539-b0a3-887098b5a23a"
      },
      "source": [
        "classifier_2 = SVC(kernel='rbf', random_state = 42)\n",
        "classifier_2.fit(X_train_2,y_train_2)\n",
        "\n",
        "y_pred_SVC_2 = classifier_2.predict(X_test_2)\n",
        "print(accuracy_score(y_test_2, y_pred_SVC_2))"
      ],
      "execution_count": null,
      "outputs": [
        {
          "output_type": "stream",
          "text": [
            "0.8627450980392157\n"
          ],
          "name": "stdout"
        }
      ]
    },
    {
      "cell_type": "code",
      "metadata": {
        "id": "o3hwt4G9VQ8v",
        "colab": {
          "base_uri": "https://localhost:8080/",
          "height": 373
        },
        "outputId": "4947534b-4990-45cd-8f11-95b4ad6e856a"
      },
      "source": [
        "from mlxtend.plotting import plot_decision_regions\n",
        "plot_decision_regions(X=np.array(X_pca),\n",
        "                      y=y.astype(np.int64).values,\n",
        "                      clf=classifier_2)\n",
        "\n",
        "# Update plot object with X/Y axis labels and Figure Title\n",
        "plt.xlabel(X.columns[0], size=14)\n",
        "plt.ylabel(X.columns[1], size=14)\n",
        "plt.title('SVM Decision Region Boundary', size=16)"
      ],
      "execution_count": null,
      "outputs": [
        {
          "output_type": "stream",
          "text": [
            "/usr/local/lib/python3.7/dist-packages/mlxtend/plotting/decision_regions.py:244: MatplotlibDeprecationWarning: Passing unsupported keyword arguments to axis() will raise a TypeError in 3.3.\n",
            "  ax.axis(xmin=xx.min(), xmax=xx.max(), y_min=yy.min(), y_max=yy.max())\n"
          ],
          "name": "stderr"
        },
        {
          "output_type": "execute_result",
          "data": {
            "text/plain": [
              "Text(0.5, 1.0, 'SVM Decision Region Boundary')"
            ]
          },
          "metadata": {
            "tags": []
          },
          "execution_count": 38
        },
        {
          "output_type": "display_data",
          "data": {
            "image/png": "[encoded data removed]",
            "text/plain": [
              "<Figure size 432x288 with 1 Axes>"
            ]
          },
          "metadata": {
            "tags": [],
            "needs_background": "light"
          }
        }
      ]
    },
    {
      "cell_type": "code",
      "metadata": {
        "id": "SUXj3wMOZ0Nk"
      },
      "source": [],
      "execution_count": null,
      "outputs": []
    }
  ]
}