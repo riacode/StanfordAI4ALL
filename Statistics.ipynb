{
  "nbformat": 4,
  "nbformat_minor": 0,
  "metadata": {
    "colab": {
      "provenance": [],
      "include_colab_link": true
    },
    "kernelspec": {
      "display_name": "Python 3",
      "language": "python",
      "name": "python3"
    },
    "language_info": {
      "codemirror_mode": {
        "name": "ipython",
        "version": 3
      },
      "file_extension": ".py",
      "mimetype": "text/x-python",
      "name": "python",
      "nbconvert_exporter": "python",
      "pygments_lexer": "ipython3",
      "version": "3.6.5"
    }
  },
  "cells": [
    {
      "cell_type": "markdown",
      "metadata": {
        "id": "view-in-github",
        "colab_type": "text"
      },
      "source": [
        "<a href=\"https://colab.research.google.com/github/riacode/StanfordAI4ALL/blob/main/Statistics.ipynb\" target=\"_parent\"><img src=\"https://colab.research.google.com/assets/colab-badge.svg\" alt=\"Open In Colab\"/></a>"
      ]
    },
    {
      "cell_type": "markdown",
      "metadata": {
        "id": "qGpMBMkGRJnv"
      },
      "source": [
        "# Introduction to Statistics\n",
        "\n",
        "Learning goals:\n",
        "*   Plot histograms of data, including histograms showing two groups of data\n",
        "*  Generate random numbers to explore relationships\n",
        "* Calculate and understand mean and standard deviation\n",
        "* Calculate and understand correlation\n",
        "* Apply the concepts to cancer data\n",
        "\n",
        " AI4ALL Camp Day 4 – 5\n",
        "\n"
      ]
    },
    {
      "cell_type": "code",
      "metadata": {
        "colab": {
          "base_uri": "https://localhost:8080/"
        },
        "id": "mjX2jqKRK_xZ",
        "outputId": "94709fde-3c60-47de-9099-a3461b7377df"
      },
      "source": [
        "print(\"hello\")"
      ],
      "execution_count": null,
      "outputs": [
        {
          "output_type": "stream",
          "text": [
            "hello\n"
          ],
          "name": "stdout"
        }
      ]
    },
    {
      "cell_type": "code",
      "metadata": {
        "id": "HIUfBCABRJnz"
      },
      "source": [
        "# let us import some useful things\n",
        "#%matplotlib notebook\n",
        "import pylab\n",
        "import scipy\n",
        "import numpy as np\n",
        "from scipy.stats import norm\n",
        "import matplotlib as mpl\n",
        "import matplotlib.pyplot as plt\n",
        "import seaborn as sns\n",
        "import io\n",
        "import pandas as pd\n"
      ],
      "execution_count": null,
      "outputs": []
    },
    {
      "cell_type": "markdown",
      "metadata": {
        "id": "p_DI_YQcRJn2"
      },
      "source": [
        "## Q1 -- Warm-Up\n",
        "\n",
        "As a warm-up, let's generate some random numbers and explore! Python has methods that allow you to generate different types of random variables.  "
      ]
    },
    {
      "cell_type": "code",
      "metadata": {
        "colab": {
          "base_uri": "https://localhost:8080/"
        },
        "id": "icMcmTEuVSjD",
        "outputId": "a6cb7282-dd37-4933-c0b1-d9607bdac157"
      },
      "source": [
        "np.random.seed(11) #This sets the seed for the random number generator; so if someone else were to start with\n",
        "#this same seed, they would get the same numbers as you\n",
        "\n",
        "n = 100 #The number of datapoints\n",
        "\n",
        "#The first parameter in the function is the mean, the second parameter is the standard deviation, and the third is the number of samples\n",
        "X = np.random.normal(50, 2, n)\n",
        "\n",
        "#Calculate the average of the samples\n",
        "average = 50 #FILL IN\n",
        "\n",
        "#Now calculate the standard deviation\n",
        "SD = 2 #FILL IN\n",
        "\n",
        "print (X)\n",
        "\n"
      ],
      "execution_count": null,
      "outputs": [
        {
          "output_type": "stream",
          "text": [
            "[53.49890948 49.42785401 49.03086974 44.69336288 49.98343074 49.36073727\n",
            " 48.92674128 50.63080534 50.84210143 47.86879404 48.22752066 49.04853301\n",
            " 51.37936462 51.12238435 47.38890298 47.76104948 51.47367478 53.14926815\n",
            " 49.93784982 48.63310675 52.1912594  49.38084673 51.45150445 53.09814327\n",
            " 51.26015964 50.14698647 51.46454271 48.71484922 49.64381365 48.85209088\n",
            " 49.59124937 49.0270098  49.62844935 49.23892717 50.17795527 50.12734332\n",
            " 50.59269422 52.80554224 46.90627486 52.59123717 49.52549911 47.53530759\n",
            " 49.65516047 50.18367675 52.13511691 47.8767311  50.43469642 50.23563901\n",
            " 46.63177821 47.62848947 51.20020401 51.39113451 52.17542172 51.06764343\n",
            " 50.79042403 50.24573506 52.41820328 48.3138678  49.71621284 50.77070828\n",
            " 46.84501138 52.62188728 48.41426998 49.85650118 54.31334885 48.3411255\n",
            " 48.94125594 53.12340739 47.83961235 49.13588476 51.03216807 50.91078572\n",
            " 51.18737241 50.74101267 52.69075614 52.03188429 51.19055691 48.63439677\n",
            " 48.57288014 46.18342092 51.3746247  46.35398083 51.7582276  53.69272975\n",
            " 47.87669119 48.63103066 49.04757104 51.66062086 48.27329497 49.73891707\n",
            " 48.95382473 49.49744615 52.58254946 48.07159029 50.14351955 50.54321259\n",
            " 51.71733435 47.47185264 52.22974057 50.86955397]\n"
          ],
          "name": "stdout"
        }
      ]
    },
    {
      "cell_type": "markdown",
      "metadata": {
        "id": "t2GoVF7_FRLG"
      },
      "source": [
        "There are always different ways of coding the same thing. Did you use the same method to calculate average and standard deviation as other people in your group?\n",
        "\n",
        "In the future, we can save time by using the functions built-in to numpy. Use this now to check the values you computed above."
      ]
    },
    {
      "cell_type": "code",
      "metadata": {
        "colab": {
          "base_uri": "https://localhost:8080/"
        },
        "id": "63LV_BTQFdQD",
        "outputId": "b07a1b94-7d94-45d3-c3b5-bf2628be0b7e"
      },
      "source": [
        "check_mean = np.mean(X)\n",
        "check_sd = np.std(X)\n",
        "\n",
        "\n",
        "#Print out the values\n",
        "print (check_mean)\n",
        "print (check_sd)\n",
        "\n"
      ],
      "execution_count": null,
      "outputs": [
        {
          "output_type": "stream",
          "text": [
            "50.023036416050964\n",
            "1.8661015259812754\n"
          ],
          "name": "stdout"
        }
      ]
    },
    {
      "cell_type": "code",
      "metadata": {
        "id": "yQDWvZQeNDWa"
      },
      "source": [],
      "execution_count": null,
      "outputs": []
    },
    {
      "cell_type": "markdown",
      "metadata": {
        "id": "sHq3QYhHeb7N"
      },
      "source": [
        "Now let's generate data from a normal distribution with different mean and standard deviation. Calculate the sample average and SD."
      ]
    },
    {
      "cell_type": "code",
      "metadata": {
        "colab": {
          "base_uri": "https://localhost:8080/"
        },
        "id": "qa0e9DnYAM5C",
        "outputId": "48949d1c-b412-452d-dbb4-c099790c4b31"
      },
      "source": [
        "#Here you can fill in different numbers for the mean and SD\n",
        "Y = np.random.normal(52, 2, n)\n",
        "\n",
        "y_mean = np.mean(Y)\n",
        "y_sd = np.std(Y)\n",
        "\n",
        "\n",
        "\n",
        "print (y_mean)\n",
        "print (y_sd)\n",
        "\n"
      ],
      "execution_count": null,
      "outputs": [
        {
          "output_type": "stream",
          "text": [
            "52.00784999768159\n",
            "1.9038869310461861\n"
          ],
          "name": "stdout"
        }
      ]
    },
    {
      "cell_type": "markdown",
      "metadata": {
        "id": "MJUcYW7RAOO5"
      },
      "source": [
        "Let's do a histogram to visually compare. The following code will generate a histogram with two groups."
      ]
    },
    {
      "cell_type": "code",
      "metadata": {
        "id": "62Is-dZBWz2I"
      },
      "source": [
        "\n",
        "def plot_hist(X, Y, title, xlabel, ylabel, xname, yname, figsize=(12, 8), bins=20):\n",
        "    '''\n",
        "    X: array of data points\n",
        "    Y: array of data points\n",
        "    title:  Title for the plot\n",
        "    xlabel , ylabel: Label titles for the axes\n",
        "    xname, yname: names of variables for the legend\n",
        "    figsize: size of the figure to plot\n",
        "    bins: Number of bins in the histogram, defaut is 20\n",
        "    '''\n",
        "    fig, ax = plt.subplots(figsize=figsize)\n",
        "    sns.distplot(X, bins=20, kde=False, label=xname) #The bins parameter controls the number of bars that will be plotted\n",
        "    sns.distplot(Y, bins=20, kde=False, label=yname)\n",
        "\n",
        "    ax.set_xlabel(xlabel,fontsize=16)\n",
        "    ax.set_ylabel(ylabel,fontsize=16)\n",
        "    plt.legend()\n",
        "    plt.tight_layout()\n",
        "    plt.show()\n",
        "\n",
        "\n",
        "\n"
      ],
      "execution_count": null,
      "outputs": []
    },
    {
      "cell_type": "markdown",
      "metadata": {
        "id": "c9HTL1w_BJOe"
      },
      "source": [
        "Call the above function:"
      ]
    },
    {
      "cell_type": "code",
      "metadata": {
        "colab": {
          "base_uri": "https://localhost:8080/",
          "height": 639
        },
        "id": "ZdpqwDnxBL5H",
        "outputId": "661ea9d8-6627-4bf3-f37c-d7efc273d8b2"
      },
      "source": [
        "plot_hist(X, Y, \"graph\", \"xlabel\", \"ylabel\", \"x\", \"y\", figsize=(12, 8), bins=20)"
      ],
      "execution_count": null,
      "outputs": [
        {
          "output_type": "stream",
          "text": [
            "/usr/local/lib/python3.7/dist-packages/seaborn/distributions.py:2557: FutureWarning: `distplot` is a deprecated function and will be removed in a future version. Please adapt your code to use either `displot` (a figure-level function with similar flexibility) or `histplot` (an axes-level function for histograms).\n",
            "  warnings.warn(msg, FutureWarning)\n"
          ],
          "name": "stderr"
        },
        {
          "output_type": "display_data",
          "data": {
            "image/png": "[encoded data removed]",
            "text/plain": [
              "<Figure size 864x576 with 1 Axes>"
            ]
          },
          "metadata": {
            "tags": []
          }
        }
      ]
    },
    {
      "cell_type": "markdown",
      "metadata": {
        "id": "Y-zUtZs7RJn7"
      },
      "source": [
        "Some things to try:\n",
        "1. Increase n, the number of points we sample. What happens to the empirical average and standard deviation? How does the histogram change?\n",
        "2. Change the mean and SD parameters of the datasets.\n",
        "3. What are the maximum and minimum values of our random sample? How many standard deviations away from the mean are they?\n",
        "4. Any other descriptive statistics you want to try?\n"
      ]
    },
    {
      "cell_type": "code",
      "metadata": {
        "colab": {
          "base_uri": "https://localhost:8080/"
        },
        "id": "Bgp1kleFBzbI",
        "outputId": "b357b6d8-1e7f-4403-e4b0-f7d97f082bc7"
      },
      "source": [
        "#Here you can play around with other descriptive statstics if you want\n",
        "check_median = np.median(X)\n",
        "check_mode = np.unique(X)\n",
        "\n",
        "print (check_median)\n",
        "print (check_mode)"
      ],
      "execution_count": null,
      "outputs": [
        {
          "output_type": "stream",
          "text": [
            "50.05538703205184\n",
            "[44.69336288 46.18342092 46.35398083 46.63177821 46.84501138 46.90627486\n",
            " 47.38890298 47.47185264 47.53530759 47.62848947 47.76104948 47.83961235\n",
            " 47.86879404 47.87669119 47.8767311  48.07159029 48.22752066 48.27329497\n",
            " 48.3138678  48.3411255  48.41426998 48.57288014 48.63103066 48.63310675\n",
            " 48.63439677 48.71484922 48.85209088 48.92674128 48.94125594 48.95382473\n",
            " 49.0270098  49.03086974 49.04757104 49.04853301 49.13588476 49.23892717\n",
            " 49.36073727 49.38084673 49.42785401 49.49744615 49.52549911 49.59124937\n",
            " 49.62844935 49.64381365 49.65516047 49.71621284 49.73891707 49.85650118\n",
            " 49.93784982 49.98343074 50.12734332 50.14351955 50.14698647 50.17795527\n",
            " 50.18367675 50.23563901 50.24573506 50.43469642 50.54321259 50.59269422\n",
            " 50.63080534 50.74101267 50.77070828 50.79042403 50.84210143 50.86955397\n",
            " 50.91078572 51.03216807 51.06764343 51.12238435 51.18737241 51.19055691\n",
            " 51.20020401 51.26015964 51.3746247  51.37936462 51.39113451 51.45150445\n",
            " 51.46454271 51.47367478 51.66062086 51.71733435 51.7582276  52.03188429\n",
            " 52.13511691 52.17542172 52.1912594  52.22974057 52.41820328 52.58254946\n",
            " 52.59123717 52.62188728 52.69075614 52.80554224 53.09814327 53.12340739\n",
            " 53.14926815 53.49890948 53.69272975 54.31334885]\n"
          ],
          "name": "stdout"
        }
      ]
    },
    {
      "cell_type": "markdown",
      "metadata": {
        "id": "RPb4rScpRJn8"
      },
      "source": [
        "### Correlation practice\n",
        "Remember the formula from lectures for the correlation between two sets of data:\n",
        "* $x_1, \\dots, x_n$ and $y_1, \\dots, y_n$ are our samples\n",
        "* Averages = $\\overline{x} = (x_1 + \\dots + x_n)/n, \\overline{y} = (y_1 + \\dots + y_n)/n$\n",
        "* Correlation coefficient:\n",
        "$$\n",
        "r_{xy} = \\frac{\\sum_{i = 1}^n (x_i - \\overline{x})(y_i - \\overline{y})}{\\sqrt{\\sum_{i = 1}^n (x_i - \\overline{x})^2 \\cdot \\sum_{i = 1}^n (y_i - \\overline{y})^2}}\n",
        "$$\n",
        "\n",
        "\n",
        " Do you think that the X and Y generated before are correlated? We can do a scatter plot to get a better idea of what's going on."
      ]
    },
    {
      "cell_type": "code",
      "metadata": {
        "colab": {
          "base_uri": "https://localhost:8080/",
          "height": 502
        },
        "id": "Sy0jO-S3AZ5n",
        "outputId": "0b8b186c-f867-4188-b038-6ef17d5dde7f"
      },
      "source": [
        "fig, ax = plt.subplots(figsize=(12,8))\n",
        "ax.set_xlabel(\"X\",fontsize=16)\n",
        "ax.set_ylabel(\"Y\",fontsize=16)\n",
        "plt.scatter(X, Y)\n",
        "plt.show()"
      ],
      "execution_count": null,
      "outputs": [
        {
          "output_type": "display_data",
          "data": {
            "image/png": "[encoded data removed]",
            "text/plain": [
              "<Figure size 864x576 with 1 Axes>"
            ]
          },
          "metadata": {
            "tags": []
          }
        }
      ]
    },
    {
      "cell_type": "markdown",
      "metadata": {
        "id": "MMlwS446Bl7Z"
      },
      "source": [
        "Now let's calculate the correlation coefficient."
      ]
    },
    {
      "cell_type": "code",
      "metadata": {
        "colab": {
          "base_uri": "https://localhost:8080/"
        },
        "id": "dXef7wrSBoS1",
        "outputId": "8bacadc3-4594-42d5-8f27-f7c8089c6a38"
      },
      "source": [
        "\n",
        "#FILL IN using formula\n",
        "#To make it easier, calculat the numerator and the denominator of the formula separately\n",
        "my_list_1 = []\n",
        "for i in range (0,100):\n",
        "  my_list_1.append((X[i] - check_mean)*(Y[i] - y_mean))\n",
        "\n",
        "num = np.sum(my_list_1)\n",
        "\n",
        "my_list_x = []\n",
        "for i in range (0,100):\n",
        "  my_list_x.append((X[i] - check_mean)*(X[i] - check_mean))\n",
        "\n",
        "my_list_y = []\n",
        "for i in range (0,100):\n",
        "  my_list_y.append((Y[i] - y_mean)*(Y[i] - y_mean))\n",
        "\n",
        "denom = np.sqrt(np.sum(my_list_x)*np.sum(my_list_y))\n",
        "\n",
        "cor = num/denom\n",
        "print(cor)\n"
      ],
      "execution_count": null,
      "outputs": [
        {
          "output_type": "stream",
          "text": [
            "-0.024160921598278068\n"
          ],
          "name": "stdout"
        }
      ]
    },
    {
      "cell_type": "markdown",
      "metadata": {
        "id": "y3-UnOe_XVYB"
      },
      "source": [
        "As usual, there is a built-in python function (from the numpy package) to calculate correlation. You can use this in the future to save time! It actually prints out a matrix. The diagonal entries are 1 and the off-diagonal entry is what you want!\n",
        "\n",
        "Use it now to check your answer from before."
      ]
    },
    {
      "cell_type": "code",
      "metadata": {
        "colab": {
          "base_uri": "https://localhost:8080/"
        },
        "id": "xbjPdCR9Xe40",
        "outputId": "0d72e7b4-31bc-4566-c469-8ba8947c4b87"
      },
      "source": [
        "#In the future, can use a built in function\n",
        "corr_matrix = np.corrcoef(X, Y)\n",
        "print(corr_matrix)\n",
        "\n",
        "corr_xy = corr_matrix[0][1]\n",
        "print(corr_xy)"
      ],
      "execution_count": null,
      "outputs": [
        {
          "output_type": "stream",
          "text": [
            "[[ 1.         -0.02416092]\n",
            " [-0.02416092  1.        ]]\n",
            "-0.02416092159827807\n"
          ],
          "name": "stdout"
        }
      ]
    },
    {
      "cell_type": "markdown",
      "metadata": {
        "id": "XLq6P03uChpn"
      },
      "source": [
        "Let's try with X and Y that are more clearly related. I will define my Y as some function of X. What do you predict the correlation coefficient will be?"
      ]
    },
    {
      "cell_type": "code",
      "metadata": {
        "colab": {
          "base_uri": "https://localhost:8080/"
        },
        "id": "JMXcLao3Cg8D",
        "outputId": "fc941f40-6215-4443-97ff-af6334d59e58"
      },
      "source": [
        "Y = 4*X + 7\n",
        "print(np.corrcoef(X, Y))\n",
        "\n",
        "#Now let's make Y depend on X, but with some extra randomness\n",
        "Y = 4*X + np.random.normal(0, 1, n) #to each entry, this adds some a random normal with mean 0 and variance 1\n",
        "print(np.corrcoef(X, Y))"
      ],
      "execution_count": null,
      "outputs": [
        {
          "output_type": "stream",
          "text": [
            "[[1. 1.]\n",
            " [1. 1.]]\n",
            "[[1.         0.99104144]\n",
            " [0.99104144 1.        ]]\n"
          ],
          "name": "stdout"
        }
      ]
    },
    {
      "cell_type": "markdown",
      "metadata": {
        "id": "iuFc_txKCvv_"
      },
      "source": [
        "Try different functions and see what happens to the correlation."
      ]
    },
    {
      "cell_type": "markdown",
      "metadata": {
        "id": "uYOrnQiFRJn8"
      },
      "source": [
        "## Q2 -- Exploring our Data\n",
        "\n",
        "First, we need to load our data. We will continue using the luekemia dataset. Unfortunately, in Google colab we neeed to run the following chunck and upload the file every time."
      ]
    },
    {
      "cell_type": "code",
      "metadata": {
        "colab": {
          "background_save": true,
          "resources": {
            "http://localhost:8080/nbextensions/google.colab/files.js": {
              "data": "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",
              "headers": [
                [
                  "content-type",
                  "application/javascript"
                ]
              ],
              "ok": true,
              "status": 200,
              "status_text": ""
            }
          },
          "base_uri": "https://localhost:8080/",
          "height": 37
        },
        "id": "3OVNZXemRJn9",
        "outputId": "32ec6eaf-af88-40b4-e43d-15be876a780d"
      },
      "source": [
        "#@title Run this to setup our files. Upload the leukemia_ALL_AML.csv file\n",
        "\n",
        "# Upload the data files\n",
        "from google.colab import files\n",
        "uploaded = files.upload()\n"
      ],
      "execution_count": null,
      "outputs": [
        {
          "output_type": "display_data",
          "data": {
            "text/html": [
              "\n",
              "     <input type=\"file\" id=\"files-4c3d62ce-bf9c-4316-9db9-59bf4e1d0bb8\" name=\"files[]\" multiple disabled\n",
              "        style=\"border:none\" />\n",
              "     <output id=\"result-4c3d62ce-bf9c-4316-9db9-59bf4e1d0bb8\">\n",
              "      Upload widget is only available when the cell has been executed in the\n",
              "      current browser session. Please rerun this cell to enable.\n",
              "      </output>\n",
              "      <script src=\"/nbextensions/google.colab/files.js\"></script> "
            ],
            "text/plain": [
              "<IPython.core.display.HTML object>"
            ]
          },
          "metadata": {
            "tags": []
          }
        },
        {
          "output_type": "error",
          "ename": "TypeError",
          "evalue": "ignored",
          "traceback": [
            "\u001b[0;31m---------------------------------------------------------------------------\u001b[0m",
            "\u001b[0;31mTypeError\u001b[0m                                 Traceback (most recent call last)",
            "\u001b[0;32m<ipython-input-17-cfab1e5b6ce2>\u001b[0m in \u001b[0;36m<module>\u001b[0;34m()\u001b[0m\n\u001b[1;32m      3\u001b[0m \u001b[0;31m# Upload the data files\u001b[0m\u001b[0;34m\u001b[0m\u001b[0;34m\u001b[0m\u001b[0;34m\u001b[0m\u001b[0m\n\u001b[1;32m      4\u001b[0m \u001b[0;32mfrom\u001b[0m \u001b[0mgoogle\u001b[0m\u001b[0;34m.\u001b[0m\u001b[0mcolab\u001b[0m \u001b[0;32mimport\u001b[0m \u001b[0mfiles\u001b[0m\u001b[0;34m\u001b[0m\u001b[0;34m\u001b[0m\u001b[0m\n\u001b[0;32m----> 5\u001b[0;31m \u001b[0muploaded\u001b[0m \u001b[0;34m=\u001b[0m \u001b[0mfiles\u001b[0m\u001b[0;34m.\u001b[0m\u001b[0mupload\u001b[0m\u001b[0;34m(\u001b[0m\u001b[0;34m)\u001b[0m\u001b[0;34m\u001b[0m\u001b[0;34m\u001b[0m\u001b[0m\n\u001b[0m",
            "\u001b[0;32m/usr/local/lib/python3.7/dist-packages/google/colab/files.py\u001b[0m in \u001b[0;36mupload\u001b[0;34m()\u001b[0m\n\u001b[1;32m     67\u001b[0m   \u001b[0mlocal_filenames\u001b[0m \u001b[0;34m=\u001b[0m \u001b[0mdict\u001b[0m\u001b[0;34m(\u001b[0m\u001b[0;34m)\u001b[0m\u001b[0;34m\u001b[0m\u001b[0;34m\u001b[0m\u001b[0m\n\u001b[1;32m     68\u001b[0m \u001b[0;34m\u001b[0m\u001b[0m\n\u001b[0;32m---> 69\u001b[0;31m   \u001b[0;32mwhile\u001b[0m \u001b[0mresult\u001b[0m\u001b[0;34m[\u001b[0m\u001b[0;34m'action'\u001b[0m\u001b[0;34m]\u001b[0m \u001b[0;34m!=\u001b[0m \u001b[0;34m'complete'\u001b[0m\u001b[0;34m:\u001b[0m\u001b[0;34m\u001b[0m\u001b[0;34m\u001b[0m\u001b[0m\n\u001b[0m\u001b[1;32m     70\u001b[0m     result = _output.eval_js(\n\u001b[1;32m     71\u001b[0m         'google.colab._files._uploadFilesContinue(\"{output_id}\")'.format(\n",
            "\u001b[0;31mTypeError\u001b[0m: 'NoneType' object is not subscriptable"
          ]
        }
      ]
    },
    {
      "cell_type": "code",
      "metadata": {
        "colab": {
          "background_save": true
        },
        "id": "MueagRKLSl6s"
      },
      "source": [
        "data = pd.read_csv(io.BytesIO(uploaded['leukemia_all_aml.csv']), encoding='utf-8')\n"
      ],
      "execution_count": null,
      "outputs": []
    },
    {
      "cell_type": "markdown",
      "metadata": {
        "id": "PZfoUxQaExCM"
      },
      "source": [
        "### Mean and standard deviation\n",
        "\n",
        "Let's pick a specific gene and calculate the mean and the standard deviation for the two groups. Rather than having to plug in a gene name, we will just pick an index. That is, gene_id is the column number that we're looking at. To access the values of a specific column number of a panda dataframe, you can use *data.iloc[:, gene_id]*.\n",
        "\n",
        "To make the computations easier, make arrays of all the values of that expression with label = 0 vs label = 1.  "
      ]
    },
    {
      "cell_type": "code",
      "metadata": {
        "id": "N6XQFrCQRJoB"
      },
      "source": [
        "\n",
        "#Let's pick a gene to analyze:\n",
        "gene_id = 100\n",
        "\n",
        "#This is giving you the column corresponding to gene_id\n",
        "expressions = data.iloc[:, gene_id]\n",
        "\n",
        "#Access all of the values in the data frame in the column of gene_id\n",
        "#with label = 0. Then do the same for label = 1\n",
        "label0 = np.asarray(#FILL IN#)\n",
        "label1 = np.asarray(#FILL IN#)\n",
        "\n",
        "\n",
        "label0_mean = np.mean(label0)\n",
        "label1_mean = #FILL IN\n",
        "\n",
        "label0_sd = #FILL IN standard deviation\n",
        "label1_sd = #FILL IN\n"
      ],
      "execution_count": null,
      "outputs": []
    },
    {
      "cell_type": "markdown",
      "metadata": {
        "id": "HIj4OJYv_y3G"
      },
      "source": [
        "You can print out the mean and sd for each group and see how they compare. Just these two values we don't really give us a full picture of the two groups. It's nice to make a histogram to qualitatively compare."
      ]
    },
    {
      "cell_type": "code",
      "metadata": {
        "id": "aL4GlFiGABMO"
      },
      "source": [
        "#Call the histogram function again\n",
        "plot_hist(#FILL IN#)"
      ],
      "execution_count": null,
      "outputs": []
    },
    {
      "cell_type": "markdown",
      "metadata": {
        "id": "CmYHdzfIRJoG"
      },
      "source": [
        "Some things to try:\n",
        "\n",
        "1. Try running the code for a few different genes by changing the gene_id. Are there some genes that seem to vary more than others between the two groups?\n",
        "\n",
        "2. For the genes you try, does the distribution of each group look approximately normal (bell-curve)?"
      ]
    },
    {
      "cell_type": "markdown",
      "metadata": {
        "id": "wX0-UvoIRJoG"
      },
      "source": [
        "### Answer:\n"
      ]
    },
    {
      "cell_type": "markdown",
      "metadata": {
        "id": "HyF2V91cRJoP"
      },
      "source": [
        "### Correlation\n",
        "\n",
        "It would be really annoying to look at all of the genes one at a time to see if we observe differences in the groups. Instead, we can calculate the correlations between the expression data at each gene and the label of the gene."
      ]
    },
    {
      "cell_type": "code",
      "metadata": {
        "colab": {
          "base_uri": "https://localhost:8080/",
          "height": 637
        },
        "id": "3fLVwCKFgZOu",
        "outputId": "9f5951a8-4be6-46f1-a280-457e5629d43b"
      },
      "source": [
        "\n",
        "#Let's loop through all genes and calculate the correlation with the label\n",
        "number_of_genes = #FILL IN -- how many genes are there in the dataset?\n",
        "correlations = [] #initialize an empty array we'll fill up\n",
        "for gene_id in range(number_of_genes):\n",
        "    samples = data.iloc[:, gene_id]\n",
        "    corMatrix = np.corrcoef(samples, data.label)\n",
        "    cor = #FILL IN -- Access the 0, 1 entry of the correlation matrix\n",
        "    correlations.append(cor) #Add the new correlation to the 'correlations' list\n",
        "\n",
        "\n",
        "#Plotting\n",
        "fig, ax = plt.subplots(figsize=(12,8))\n",
        "#sns.distplot(normal_samples, bins=15, kde=False, label='Normal')\n",
        "ax.bar(range(number_of_genes), correlations)\n",
        "\n",
        "ax.set_xlabel(\"Gene\",fontsize=16)\n",
        "ax.set_ylabel(\"Correlation with label\",fontsize=16)\n",
        "plt.tight_layout()\n",
        "\n",
        "plt.draw()\n",
        "plt.show()\n",
        "\n"
      ],
      "execution_count": null,
      "outputs": [
        {
          "output_type": "stream",
          "text": [
            "[[ 1.         -0.19098392]\n",
            " [-0.19098392  1.        ]]\n",
            "-0.19098391679064083\n"
          ],
          "name": "stdout"
        },
        {
          "output_type": "display_data",
          "data": {
            "image/png": "[encoded data removed]",
            "text/plain": [
              "<Figure size 864x576 with 1 Axes>"
            ]
          },
          "metadata": {
            "tags": []
          }
        }
      ]
    },
    {
      "cell_type": "markdown",
      "metadata": {
        "id": "aaWKVGEH9ceb"
      },
      "source": [
        "Which genes seem to be correlated with the label of the tumor? Try to write code to figure out the gene that has the maximum correlation (in absolute value) with label. What is the average correlation over all genes?  Go back to the previous problem and compare the histograms of these genes for the two groups.\n"
      ]
    },
    {
      "cell_type": "code",
      "metadata": {
        "id": "pIpgxC3W_2mH"
      },
      "source": [
        "max_cor = 0 #FILL INN\n",
        "\n",
        "average_cor = 0 #FILL IN"
      ],
      "execution_count": null,
      "outputs": []
    },
    {
      "cell_type": "markdown",
      "metadata": {
        "id": "3hv0crVm_89O"
      },
      "source": [
        "##OPTIONAL\n",
        "\n",
        "We studied how the expressions of each gene were correlated with label. Do you think the expression data for two different genes is correlated? Play around computing some different correlations below."
      ]
    },
    {
      "cell_type": "code",
      "metadata": {
        "id": "wMfNqbRQ9nxO"
      },
      "source": [
        "\n",
        "#Change these to compare different genes\n",
        "gene_id1 = 100\n",
        "gene_id2 = 101\n",
        "\n",
        "expression_data1 = np.asarray(data.iloc[:, gene_id1])\n",
        "expression_data2 = np.asarray(data.iloc[:, gene_id2])\n",
        "\n",
        "print(np.corrcoef(expression_data1, expression_data2))\n",
        "\n"
      ],
      "execution_count": null,
      "outputs": []
    },
    {
      "cell_type": "markdown",
      "metadata": {
        "id": "_oIx-rRVVCLd"
      },
      "source": [
        "Can you write a loop to calculate the correlation between *all* pairs of genes? HINT: You may need a loop within a loop!\n",
        "\n",
        "From this, find out which pairs have the highest correlation."
      ]
    },
    {
      "cell_type": "code",
      "metadata": {
        "id": "1c3eB0ZdVKuf"
      },
      "source": [
        "#Your code goes here, let us know if you need help getting started!"
      ],
      "execution_count": null,
      "outputs": []
    }
  ]
}