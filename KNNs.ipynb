{
  "nbformat": 4,
  "nbformat_minor": 0,
  "metadata": {
    "colab": {
      "provenance": [],
      "include_colab_link": true
    },
    "kernelspec": {
      "name": "python3",
      "display_name": "Python 3"
    }
  },
  "cells": [
    {
      "cell_type": "markdown",
      "metadata": {
        "id": "view-in-github",
        "colab_type": "text"
      },
      "source": [
        "<a href=\"https://colab.research.google.com/github/riacode/StanfordAI4ALL/blob/main/KNNs.ipynb\" target=\"_parent\"><img src=\"https://colab.research.google.com/assets/colab-badge.svg\" alt=\"Open In Colab\"/></a>"
      ]
    },
    {
      "cell_type": "markdown",
      "metadata": {
        "id": "NsS9Iq_wJl-5"
      },
      "source": [
        "# K-Nearest Neighbors\n",
        "\n",
        "Welcome to the KNN notebook!\n",
        "Today, we will be:\n",
        "*  Exploring what k is in KNNs using scikit-learn\n",
        "* Train our cancer dataset w/ KNNs\n",
        "* Find optimal k\n",
        "*  Understand effect of distance metrics in KNNs on our dataset\n",
        "\n",
        "AI4ALL Camp Day 8\n"
      ]
    },
    {
      "cell_type": "markdown",
      "metadata": {
        "id": "2JQn_EwKduR9"
      },
      "source": [
        "# Part 1: KNN warm-up w/ small dataset\n",
        "Since our cancer dataset has thousands of features, lets first play with a simpler dataset to understand KNNs!\n",
        "\n",
        "This part will observe how scikit-learn's KMeans classifier works on some randomly generated data. We'll use some fake data here...\n",
        "\n",
        "We start by importing all the libraries and methods we need, as well as our fake data!"
      ]
    },
    {
      "cell_type": "code",
      "metadata": {
        "id": "0Z7YgkBDeZLS",
        "colab": {
          "base_uri": "https://localhost:8080/",
          "height": 675
        },
        "outputId": "e33611e6-cb09-494e-c822-0bc30c543170"
      },
      "source": [
        "#@title Import our libraries and fake data\n",
        "import matplotlib.pyplot as plt\n",
        "from sklearn import neighbors\n",
        "from sklearn.datasets import make_blobs\n",
        "import seaborn as sns\n",
        "import pandas as pd\n",
        "import numpy as np\n",
        "\n",
        "#We'll make some fake data using the make_blobs()\n",
        "# method in sklearn.datasets, which randomly generates\n",
        "# points that naturally fit into groups (called 'blobs').\n",
        "\n",
        "# n_samples specifies how many points to generate.\n",
        "# centers specifies how many blobs to make.\n",
        "X, y = make_blobs(n_samples=20, centers=1, random_state=41)\n",
        "blobs = pd.DataFrame(X, columns = [\"Size\", \"Darkness\"])\n",
        "blobs[\"label\"] = blobs.Size < -5   # Make labels as True/False\n",
        "blobs.Size = blobs.Size + 7  #just shifting the dataset\n",
        "blobs.Darkness = blobs.Darkness + 12\n",
        "blobs.label = blobs.label.astype(int) #Cast boolean from above to int 0/1\n",
        "blobs.loc[4, \"label\"]  = 0\n",
        "\n",
        "blobs"
      ],
      "execution_count": null,
      "outputs": [
        {
          "output_type": "execute_result",
          "data": {
            "text/html": [
              "<div>\n",
              "<style scoped>\n",
              "    .dataframe tbody tr th:only-of-type {\n",
              "        vertical-align: middle;\n",
              "    }\n",
              "\n",
              "    .dataframe tbody tr th {\n",
              "        vertical-align: top;\n",
              "    }\n",
              "\n",
              "    .dataframe thead th {\n",
              "        text-align: right;\n",
              "    }\n",
              "</style>\n",
              "<table border=\"1\" class=\"dataframe\">\n",
              "  <thead>\n",
              "    <tr style=\"text-align: right;\">\n",
              "      <th></th>\n",
              "      <th>Size</th>\n",
              "      <th>Darkness</th>\n",
              "      <th>label</th>\n",
              "    </tr>\n",
              "  </thead>\n",
              "  <tbody>\n",
              "    <tr>\n",
              "      <th>0</th>\n",
              "      <td>0.792257</td>\n",
              "      <td>1.973909</td>\n",
              "      <td>1</td>\n",
              "    </tr>\n",
              "    <tr>\n",
              "      <th>1</th>\n",
              "      <td>1.200165</td>\n",
              "      <td>1.959533</td>\n",
              "      <td>1</td>\n",
              "    </tr>\n",
              "    <tr>\n",
              "      <th>2</th>\n",
              "      <td>2.269000</td>\n",
              "      <td>1.996716</td>\n",
              "      <td>0</td>\n",
              "    </tr>\n",
              "    <tr>\n",
              "      <th>3</th>\n",
              "      <td>1.864797</td>\n",
              "      <td>3.711768</td>\n",
              "      <td>1</td>\n",
              "    </tr>\n",
              "    <tr>\n",
              "      <th>4</th>\n",
              "      <td>1.747760</td>\n",
              "      <td>3.026764</td>\n",
              "      <td>0</td>\n",
              "    </tr>\n",
              "    <tr>\n",
              "      <th>5</th>\n",
              "      <td>1.247841</td>\n",
              "      <td>2.888205</td>\n",
              "      <td>1</td>\n",
              "    </tr>\n",
              "    <tr>\n",
              "      <th>6</th>\n",
              "      <td>1.450162</td>\n",
              "      <td>0.810298</td>\n",
              "      <td>1</td>\n",
              "    </tr>\n",
              "    <tr>\n",
              "      <th>7</th>\n",
              "      <td>3.511151</td>\n",
              "      <td>3.629042</td>\n",
              "      <td>0</td>\n",
              "    </tr>\n",
              "    <tr>\n",
              "      <th>8</th>\n",
              "      <td>3.132786</td>\n",
              "      <td>1.541114</td>\n",
              "      <td>0</td>\n",
              "    </tr>\n",
              "    <tr>\n",
              "      <th>9</th>\n",
              "      <td>1.408694</td>\n",
              "      <td>4.391333</td>\n",
              "      <td>1</td>\n",
              "    </tr>\n",
              "    <tr>\n",
              "      <th>10</th>\n",
              "      <td>3.218533</td>\n",
              "      <td>1.099297</td>\n",
              "      <td>0</td>\n",
              "    </tr>\n",
              "    <tr>\n",
              "      <th>11</th>\n",
              "      <td>2.585616</td>\n",
              "      <td>1.881736</td>\n",
              "      <td>0</td>\n",
              "    </tr>\n",
              "    <tr>\n",
              "      <th>12</th>\n",
              "      <td>1.448819</td>\n",
              "      <td>1.944766</td>\n",
              "      <td>1</td>\n",
              "    </tr>\n",
              "    <tr>\n",
              "      <th>13</th>\n",
              "      <td>3.033897</td>\n",
              "      <td>3.145998</td>\n",
              "      <td>0</td>\n",
              "    </tr>\n",
              "    <tr>\n",
              "      <th>14</th>\n",
              "      <td>0.159982</td>\n",
              "      <td>1.551293</td>\n",
              "      <td>1</td>\n",
              "    </tr>\n",
              "    <tr>\n",
              "      <th>15</th>\n",
              "      <td>3.311437</td>\n",
              "      <td>2.026604</td>\n",
              "      <td>0</td>\n",
              "    </tr>\n",
              "    <tr>\n",
              "      <th>16</th>\n",
              "      <td>0.985613</td>\n",
              "      <td>4.064344</td>\n",
              "      <td>1</td>\n",
              "    </tr>\n",
              "    <tr>\n",
              "      <th>17</th>\n",
              "      <td>2.287857</td>\n",
              "      <td>2.475492</td>\n",
              "      <td>0</td>\n",
              "    </tr>\n",
              "    <tr>\n",
              "      <th>18</th>\n",
              "      <td>1.688366</td>\n",
              "      <td>1.406626</td>\n",
              "      <td>1</td>\n",
              "    </tr>\n",
              "    <tr>\n",
              "      <th>19</th>\n",
              "      <td>1.373921</td>\n",
              "      <td>3.583448</td>\n",
              "      <td>1</td>\n",
              "    </tr>\n",
              "  </tbody>\n",
              "</table>\n",
              "</div>"
            ],
            "text/plain": [
              "        Size  Darkness  label\n",
              "0   0.792257  1.973909      1\n",
              "1   1.200165  1.959533      1\n",
              "2   2.269000  1.996716      0\n",
              "3   1.864797  3.711768      1\n",
              "4   1.747760  3.026764      0\n",
              "5   1.247841  2.888205      1\n",
              "6   1.450162  0.810298      1\n",
              "7   3.511151  3.629042      0\n",
              "8   3.132786  1.541114      0\n",
              "9   1.408694  4.391333      1\n",
              "10  3.218533  1.099297      0\n",
              "11  2.585616  1.881736      0\n",
              "12  1.448819  1.944766      1\n",
              "13  3.033897  3.145998      0\n",
              "14  0.159982  1.551293      1\n",
              "15  3.311437  2.026604      0\n",
              "16  0.985613  4.064344      1\n",
              "17  2.287857  2.475492      0\n",
              "18  1.688366  1.406626      1\n",
              "19  1.373921  3.583448      1"
            ]
          },
          "metadata": {
            "tags": []
          },
          "execution_count": 3
        }
      ]
    },
    {
      "cell_type": "markdown",
      "metadata": {
        "id": "6_P3vm35N6DE"
      },
      "source": [
        "Here, our fake dataset is split into two classes (0/1) -- lets say cancerous and non-cancerous cells. The features we have are the darkness of a cell and the size of the cell. Just as in the example we had in lecture today."
      ]
    },
    {
      "cell_type": "markdown",
      "metadata": {
        "id": "X59goK1ci9wI"
      },
      "source": [
        "Let's see what this dataset looks like by plotting the points and coloring the points by their labels"
      ]
    },
    {
      "cell_type": "code",
      "metadata": {
        "id": "gsRFxbxAlf2b",
        "colab": {
          "base_uri": "https://localhost:8080/",
          "height": 296
        },
        "outputId": "a4ffeef5-13fe-4bee-f259-3ec9cccb97a6"
      },
      "source": [
        "sns.scatterplot(x= \"Size\", y=\"Darkness\", hue=\"label\", data=blobs)"
      ],
      "execution_count": null,
      "outputs": [
        {
          "output_type": "execute_result",
          "data": {
            "text/plain": [
              "<matplotlib.axes._subplots.AxesSubplot at 0x7f6d18ab8a90>"
            ]
          },
          "metadata": {
            "tags": []
          },
          "execution_count": 4
        },
        {
          "output_type": "display_data",
          "data": {
            "image/png": "[encoded data removed]",
            "text/plain": [
              "<Figure size 432x288 with 1 Axes>"
            ]
          },
          "metadata": {
            "tags": [],
            "needs_background": "light"
          }
        }
      ]
    },
    {
      "cell_type": "markdown",
      "metadata": {
        "id": "H0o5PcI1jSvQ"
      },
      "source": [
        "Great!  There roughly 2 groups here.  Now what if we have a new, unlabeled example, that's right in between the two blobs? How does KNN work to classify this new spot?\n",
        "\n",
        "Lets plot the new example in green below:"
      ]
    },
    {
      "cell_type": "code",
      "metadata": {
        "id": "W_NN-uOSjRKU",
        "colab": {
          "base_uri": "https://localhost:8080/",
          "height": 296
        },
        "outputId": "53772e26-9a08-4dc5-cf87-58bb2050850d"
      },
      "source": [
        "#plotting new spot with dataset\n",
        "test_point = np.array([2.05, 2.75]) #The new example!\n",
        "plt.scatter(test_point[0], test_point[1], label=\"TestPoint\", c=\"g\")\n",
        "sns.scatterplot(x= \"Size\", y=\"Darkness\", hue=\"label\", data=blobs)"
      ],
      "execution_count": null,
      "outputs": [
        {
          "output_type": "execute_result",
          "data": {
            "text/plain": [
              "<matplotlib.axes._subplots.AxesSubplot at 0x7f6d052615d0>"
            ]
          },
          "metadata": {
            "tags": []
          },
          "execution_count": 5
        },
        {
          "output_type": "display_data",
          "data": {
            "image/png": "[encoded data removed]",
            "text/plain": [
              "<Figure size 432x288 with 1 Axes>"
            ]
          },
          "metadata": {
            "tags": [],
            "needs_background": "light"
          }
        }
      ]
    },
    {
      "cell_type": "markdown",
      "metadata": {
        "id": "NPx_GFYOKI0k"
      },
      "source": [
        "Let's plot some circles to visually see which spots are closest to our test_spot, and using these, perhaps we can manually predict the label of this green spot."
      ]
    },
    {
      "cell_type": "code",
      "metadata": {
        "id": "v43bP3IEIOOS",
        "colab": {
          "base_uri": "https://localhost:8080/",
          "height": 296
        },
        "outputId": "902c4c97-0c55-4a93-8348-3891b8b9725e"
      },
      "source": [
        "#Lets plot some circles centering on our test_point\n",
        "fig, ax = plt.subplots()\n",
        "for rad in [0.4, .75, 1.45]:\n",
        "  circle = plt.Circle(test_point, radius=rad, fill=False, color=\"r\" )\n",
        "  ax.add_artist(circle)\n",
        "\n",
        "plt.scatter(test_point[0], test_point[1], label=\"TestPoint\", c=\"g\")\n",
        "sns.scatterplot(x= \"Size\", y=\"Darkness\", hue=\"label\", data=blobs)"
      ],
      "execution_count": null,
      "outputs": [
        {
          "output_type": "execute_result",
          "data": {
            "text/plain": [
              "<matplotlib.axes._subplots.AxesSubplot at 0x7f6d04c9fb50>"
            ]
          },
          "metadata": {
            "tags": []
          },
          "execution_count": 6
        },
        {
          "output_type": "display_data",
          "data": {
            "image/png": "[encoded data removed]",
            "text/plain": [
              "<Figure size 432x288 with 1 Axes>"
            ]
          },
          "metadata": {
            "tags": [],
            "needs_background": "light"
          }
        }
      ]
    },
    {
      "cell_type": "markdown",
      "metadata": {
        "id": "YUMAN6uzKpUA"
      },
      "source": [
        "Using the inner-most circle, k=1. What will the KNN prediction be?\n",
        "\n",
        "What are the k values for the other circle ranges, and what are their corresponding predictions?\n"
      ]
    },
    {
      "cell_type": "markdown",
      "metadata": {
        "id": "EVOy51iTPQqI"
      },
      "source": [
        "YOUR ANSWER:\n",
        "* First circle (k= 1): 0\n",
        "* Second circle (k= 2): 0\n",
        "* Third circle (k= 11): 1"
      ]
    },
    {
      "cell_type": "markdown",
      "metadata": {
        "id": "cLAmDvTpPaYW"
      },
      "source": [
        "Now that you have calculated the KNN prediction by hand, lets see if they match scikit learns' KNN classifier!"
      ]
    },
    {
      "cell_type": "code",
      "metadata": {
        "id": "_ORDH1NMm6tN",
        "colab": {
          "base_uri": "https://localhost:8080/"
        },
        "outputId": "4810c5ae-c6b5-493e-fb87-bccf4c0db62d"
      },
      "source": [
        "# Import the default K-Nearest Neighbors classifier\n",
        "k = 11 ### FILL IN ###\n",
        "knn = neighbors.KNeighborsClassifier(n_neighbors=k, metric=\"euclidean\")\n",
        "\n",
        "# Train the classifer with all of our dataset\n",
        "knn.fit(blobs[[\"Size\", \"Darkness\"]], blobs.label)\n",
        "\n",
        "# Predict the label of our test_point\n",
        "test_pred_label = knn.predict(test_point.reshape(1,-1))\n",
        "print(\"The predicted label for k =\", str(k), \" is: \", test_pred_label[0])"
      ],
      "execution_count": null,
      "outputs": [
        {
          "output_type": "stream",
          "text": [
            "The predicted label for k = 11  is:  1\n"
          ],
          "name": "stdout"
        }
      ]
    },
    {
      "cell_type": "markdown",
      "metadata": {
        "id": "72675w0EqS0U"
      },
      "source": [
        "Did the predicted label match for every k? If not, revisit your own predictions and see where you might have gone wrong."
      ]
    },
    {
      "cell_type": "markdown",
      "metadata": {
        "id": "_6kX8NZAQArW"
      },
      "source": [
        "Congrats!! Now you have some more intuition for KNN, and how different values can change the prediction!"
      ]
    },
    {
      "cell_type": "markdown",
      "metadata": {
        "id": "4lZO6pOTJtFj"
      },
      "source": [
        "#Part 2: KNNs with our Cancer Dataset\n",
        "Now, let's implement KNN's on our AML/ALL cancer dataset!"
      ]
    },
    {
      "cell_type": "code",
      "metadata": {
        "id": "n0pap5aOHv_-",
        "colab": {
          "resources": {
            "http://localhost:8080/nbextensions/google.colab/files.js": {
              "data": "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",
              "ok": true,
              "headers": [
                [
                  "content-type",
                  "application/javascript"
                ]
              ],
              "status": 200,
              "status_text": ""
            }
          },
          "base_uri": "https://localhost:8080/",
          "height": 175
        },
        "outputId": "996035e8-de51-4bf6-a74d-1011136860ce"
      },
      "source": [
        "#@title Run this to setup our files and download your data! Upload the 3 leukemia_ALL_AML_<matrix/labels/genes>.txt files\n",
        "\n",
        "#Import the common libraries\n",
        "import pandas as pd\n",
        "import matplotlib.pyplot as plt\n",
        "import seaborn as sns\n",
        "import numpy as np\n",
        "import io\n",
        "\n",
        "# Upload the data files\n",
        "from google.colab import files\n",
        "uploaded = files.upload()"
      ],
      "execution_count": null,
      "outputs": [
        {
          "output_type": "display_data",
          "data": {
            "text/html": [
              "\n",
              "     <input type=\"file\" id=\"files-864caab4-b37c-4c52-af25-29755d048bcb\" name=\"files[]\" multiple disabled\n",
              "        style=\"border:none\" />\n",
              "     <output id=\"result-864caab4-b37c-4c52-af25-29755d048bcb\">\n",
              "      Upload widget is only available when the cell has been executed in the\n",
              "      current browser session. Please rerun this cell to enable.\n",
              "      </output>\n",
              "      <script src=\"/nbextensions/google.colab/files.js\"></script> "
            ],
            "text/plain": [
              "<IPython.core.display.HTML object>"
            ]
          },
          "metadata": {
            "tags": []
          }
        },
        {
          "output_type": "stream",
          "text": [
            "Saving leukemia_ALL_AML_genes.txt to leukemia_ALL_AML_genes (1).txt\n",
            "Saving leukemia_ALL_AML_labels.txt to leukemia_ALL_AML_labels (1).txt\n",
            "Saving leukemia_ALL_AML_matrix.txt to leukemia_ALL_AML_matrix (1).txt\n",
            "Saving leukemia_ALL_AML.csv to leukemia_ALL_AML.csv\n"
          ],
          "name": "stdout"
        }
      ]
    },
    {
      "cell_type": "code",
      "metadata": {
        "id": "wSTsryoVH3My"
      },
      "source": [
        "#Load our data to a pandas dataframe\n",
        "data_df = pd.read_csv('leukemia_ALL_AML.csv')"
      ],
      "execution_count": null,
      "outputs": []
    },
    {
      "cell_type": "markdown",
      "metadata": {
        "id": "1_Xi62X7LRLp"
      },
      "source": [
        "Let's initiate the KNN classifier from scikit learn"
      ]
    },
    {
      "cell_type": "code",
      "metadata": {
        "id": "Vm-2hzdeLozV"
      },
      "source": [
        "from sklearn import neighbors\n",
        "from sklearn.model_selection import train_test_split"
      ],
      "execution_count": null,
      "outputs": []
    },
    {
      "cell_type": "code",
      "metadata": {
        "id": "bz_k31-xK9m2"
      },
      "source": [
        "# Import the default K-Nearest Neighbors classifier\n",
        "# Make sure you know what k represents in the line of code\n",
        "k = 3\n",
        "knn = neighbors.KNeighborsClassifier(n_neighbors=k, metric=\"euclidean\")"
      ],
      "execution_count": null,
      "outputs": []
    },
    {
      "cell_type": "code",
      "metadata": {
        "id": "2alY0Q7kMPjT"
      },
      "source": [
        "# Break the dataset up into the examples (X) and their labels (y)\n",
        "X = data_df.drop(columns =\"label\")\n",
        "y = data_df.label\n",
        "\n",
        "# Split up the X and y datasets into train and test sets\n",
        "# 25% of the dataset will be used for the test set\n",
        "X_train, X_test, y_train, y_test = train_test_split(X, y, test_size=0.25, random_state=15)"
      ],
      "execution_count": null,
      "outputs": []
    },
    {
      "cell_type": "code",
      "metadata": {
        "id": "P_V37Nv7MS9i",
        "colab": {
          "base_uri": "https://localhost:8080/"
        },
        "outputId": "704d2570-908f-498e-c732-0e5a1eeabcff"
      },
      "source": [
        "# Train the classifer\n",
        "knn.fit(X_train, y_train)\n",
        "\n",
        "# Compute the score (mean accuracy) on test set\n",
        "score = knn.score(X_test, y_test)\n",
        "print('KNN score: %f' % score)"
      ],
      "execution_count": null,
      "outputs": [
        {
          "output_type": "stream",
          "text": [
            "KNN score: 0.888889\n"
          ],
          "name": "stdout"
        }
      ]
    },
    {
      "cell_type": "markdown",
      "metadata": {
        "id": "zcmhN2m4Pzh7"
      },
      "source": [
        "Recall that k is an input to a K-Neighbors classifier, specifying how many neighboring data points to use on each update.\n",
        "\n",
        "Try remaking a KNN classifier, training, then testing, for a range of k's to see how the score is affected!"
      ]
    },
    {
      "cell_type": "code",
      "metadata": {
        "id": "n6UO7WBCNZDK",
        "colab": {
          "base_uri": "https://localhost:8080/"
        },
        "outputId": "a06a9605-6a28-45a0-c8a6-a137b6e30a5f"
      },
      "source": [
        "#Iterate through a range of k's for KNN Classifier\n",
        "# print or track the accuracy across k's\n",
        "\n",
        "my_ks = np.arange(1,55)\n",
        "accuracies = []\n",
        "\n",
        "for k in my_ks:\n",
        "  knn = neighbors.KNeighborsClassifier(n_neighbors=k, metric=\"euclidean\")\n",
        "  X = data_df.drop(columns =\"label\")\n",
        "  y = data_df.label\n",
        "  X_train, X_test, y_train, y_test = train_test_split(X, y, test_size=0.25, random_state=15)\n",
        "  knn.fit(X_train, y_train)\n",
        "  score = knn.score(X_test, y_test)\n",
        "  accuracies.append(score)\n",
        "  print('KNN score for', k, ': %f' % score)"
      ],
      "execution_count": null,
      "outputs": [
        {
          "output_type": "stream",
          "text": [
            "KNN score for 1 : 1.000000\n",
            "KNN score for 2 : 0.944444\n",
            "KNN score for 3 : 0.888889\n",
            "KNN score for 4 : 0.833333\n",
            "KNN score for 5 : 0.833333\n",
            "KNN score for 6 : 0.833333\n",
            "KNN score for 7 : 0.833333\n",
            "KNN score for 8 : 0.833333\n",
            "KNN score for 9 : 0.888889\n",
            "KNN score for 10 : 0.777778\n",
            "KNN score for 11 : 0.833333\n",
            "KNN score for 12 : 0.722222\n",
            "KNN score for 13 : 0.722222\n",
            "KNN score for 14 : 0.722222\n",
            "KNN score for 15 : 0.722222\n",
            "KNN score for 16 : 0.666667\n",
            "KNN score for 17 : 0.722222\n",
            "KNN score for 18 : 0.666667\n",
            "KNN score for 19 : 0.722222\n",
            "KNN score for 20 : 0.666667\n",
            "KNN score for 21 : 0.722222\n",
            "KNN score for 22 : 0.611111\n",
            "KNN score for 23 : 0.611111\n",
            "KNN score for 24 : 0.611111\n",
            "KNN score for 25 : 0.611111\n",
            "KNN score for 26 : 0.611111\n",
            "KNN score for 27 : 0.611111\n",
            "KNN score for 28 : 0.611111\n",
            "KNN score for 29 : 0.611111\n",
            "KNN score for 30 : 0.611111\n",
            "KNN score for 31 : 0.611111\n",
            "KNN score for 32 : 0.611111\n",
            "KNN score for 33 : 0.611111\n",
            "KNN score for 34 : 0.611111\n",
            "KNN score for 35 : 0.611111\n",
            "KNN score for 36 : 0.611111\n",
            "KNN score for 37 : 0.611111\n",
            "KNN score for 38 : 0.611111\n",
            "KNN score for 39 : 0.611111\n",
            "KNN score for 40 : 0.611111\n",
            "KNN score for 41 : 0.611111\n",
            "KNN score for 42 : 0.611111\n",
            "KNN score for 43 : 0.611111\n",
            "KNN score for 44 : 0.611111\n",
            "KNN score for 45 : 0.611111\n",
            "KNN score for 46 : 0.611111\n",
            "KNN score for 47 : 0.611111\n",
            "KNN score for 48 : 0.611111\n",
            "KNN score for 49 : 0.611111\n",
            "KNN score for 50 : 0.611111\n",
            "KNN score for 51 : 0.611111\n",
            "KNN score for 52 : 0.611111\n",
            "KNN score for 53 : 0.611111\n",
            "KNN score for 54 : 0.611111\n"
          ],
          "name": "stdout"
        }
      ]
    },
    {
      "cell_type": "code",
      "metadata": {
        "id": "UsE2P0YJQ39o",
        "colab": {
          "base_uri": "https://localhost:8080/",
          "height": 312
        },
        "outputId": "2ee85a52-281f-4bba-e80b-a37d2cc21c4c"
      },
      "source": [
        "#Plot your accuracies!\n",
        "plt.scatter(my_ks, accuracies)\n",
        "plt.xlabel(\"k\")\n",
        "plt.ylabel(\"Accuracy\")\n",
        "plt.title(\"Accuracy vs k value\")"
      ],
      "execution_count": null,
      "outputs": [
        {
          "output_type": "execute_result",
          "data": {
            "text/plain": [
              "Text(0.5, 1.0, 'Accuracy vs k value')"
            ]
          },
          "metadata": {
            "tags": []
          },
          "execution_count": 20
        },
        {
          "output_type": "display_data",
          "data": {
            "image/png": "[encoded data removed]",
            "text/plain": [
              "<Figure size 432x288 with 1 Axes>"
            ]
          },
          "metadata": {
            "tags": [],
            "needs_background": "light"
          }
        }
      ]
    },
    {
      "cell_type": "markdown",
      "metadata": {
        "id": "4FF61_jTRJ4-"
      },
      "source": [
        "Great! Now that you have done your very first \"parameter sweep\" to optimize the classifier with our dataset, let's use the best k from now on.\n"
      ]
    },
    {
      "cell_type": "code",
      "metadata": {
        "id": "yh_T1rM6RBy5",
        "colab": {
          "base_uri": "https://localhost:8080/"
        },
        "outputId": "c2b8601b-c6bd-4515-a157-a2a66c61d44d"
      },
      "source": [
        "best_k = np.argmax(accuracies) + 1\n",
        "print(best_k)\n",
        "print(accuracies[best_k])"
      ],
      "execution_count": null,
      "outputs": [
        {
          "output_type": "stream",
          "text": [
            "1\n",
            "0.9444444444444444\n"
          ],
          "name": "stdout"
        }
      ]
    },
    {
      "cell_type": "markdown",
      "metadata": {
        "id": "haQ76DleRn-n"
      },
      "source": [
        "## Euclidean distance\n",
        "So far, if you've noticed we've been using the distance metric \"euclidean\" in our KNNs. These distances play a very important role in KNNs.\n",
        "\n",
        "Let's take a closer look at what these distance metrics mean, and how they can alter our results.  \n",
        "\n",
        "\"euclidean\" is actually a function. Let's try to implement it ourselves to make sure we understand!\n",
        "\n",
        "euclidean_distance = ![alt text](https://wikimedia.org/api/rest_v1/media/math/render/svg/795b967db2917cdde7c2da2d1ee327eb673276c0)\n",
        "\n",
        "\n",
        "You might notice that this is the Pythagorean Theorem just for extended for more than two points!"
      ]
    },
    {
      "cell_type": "code",
      "metadata": {
        "id": "O2pUzlyVRlU7",
        "colab": {
          "base_uri": "https://localhost:8080/"
        },
        "outputId": "f1c5bca9-bf2c-4303-aa3b-9367c25c39d2"
      },
      "source": [
        "def my_euclidean_distance(sample1, sample2):\n",
        "  sample1 = np.array(sample1)\n",
        "  sample2 = np.array(sample2)\n",
        "\n",
        "  distance = np.sqrt(np.sum(np.square(sample1 - sample2)))\n",
        "\n",
        "  return distance\n",
        "\n",
        "print(my_euclidean_distance([1], [2]))  # should print \"1.0\"\n",
        "print(my_euclidean_distance([1, 1], [2, 2]))  # should print \"1.41421356237\"\n",
        "print(my_euclidean_distance([0, 1, 2], [5, -7, 13]))  # should print \"14.4913767462\""
      ],
      "execution_count": null,
      "outputs": [
        {
          "output_type": "stream",
          "text": [
            "1.0\n",
            "1.4142135623730951\n",
            "14.491376746189438\n"
          ],
          "name": "stdout"
        }
      ]
    },
    {
      "cell_type": "code",
      "metadata": {
        "id": "qDhfv7bcSlV-",
        "colab": {
          "base_uri": "https://localhost:8080/"
        },
        "outputId": "5bbff2bd-2e0b-4f9a-8225-6dc9aba83268"
      },
      "source": [
        "# now let's test out your distance function in the real-live classifier!\n",
        "knn = neighbors.KNeighborsClassifier(n_neighbors=best_k, metric=my_euclidean_distance)\n",
        "knn.fit(X_train, y_train)\n",
        "# Compute the score (mean accuracy) on test set\n",
        "y_predict = knn.predict(X_test)\n",
        "score = knn.score(X_test, y_test)\n",
        "print(score)"
      ],
      "execution_count": null,
      "outputs": [
        {
          "output_type": "stream",
          "text": [
            "1.0\n"
          ],
          "name": "stdout"
        }
      ]
    },
    {
      "cell_type": "markdown",
      "metadata": {
        "id": "xFVHrbd7V9gK"
      },
      "source": [
        "the results here should be the same as the results from the using the default formula. If not, please revisit your `my_euclidean_distance `"
      ]
    },
    {
      "cell_type": "markdown",
      "metadata": {
        "id": "EMzN39POYSQt"
      },
      "source": [
        "## Manhattan distance\n",
        "There are actually a bunch of difference distance metrics! For example, this is the Manhattan distance:\n",
        "\n",
        "![alt text](https://wikimedia.org/api/rest_v1/media/math/render/svg/02436c34fc9562eb170e2e2cfddbb3303075b28e)\n",
        "\n",
        "Instead of the shortest path length, it calculates the distance if you couldnt take shortcuts (ie diagonals). For example, in the map below, green shows the Euclidean distance -- the distance by flight. But if we were to drive in the city, we would have to follow the block system as shown by the blue path.\n",
        "\n",
        "![alt text](https://qph.fs.quoracdn.net/main-qimg-e73d01f18d0b4a2f57ff2206a3863c10.webp)\n",
        "\n",
        "(Fun Fact: the name alludes to the way you have to drive in the grid layout of streets on the island of Manhattan --  You can't drive through buildings!)\n",
        "\n",
        "Let's implement it!"
      ]
    },
    {
      "cell_type": "code",
      "metadata": {
        "id": "q0WDh0uZYRjl",
        "colab": {
          "base_uri": "https://localhost:8080/"
        },
        "outputId": "bc87e794-dff6-45c1-cf3a-8d06a1e1708d"
      },
      "source": [
        "def my_manhattan_distance(sample1, sample2):\n",
        "  sample1 = np.array(sample1)\n",
        "  sample2 = np.array(sample2)\n",
        "\n",
        "  distance = (np.sum(np.abs(sample1 - sample2)))\n",
        "\n",
        "  return distance\n",
        "\n",
        "print(my_manhattan_distance([1], [2]))  # should print \"1.0\"\n",
        "print(my_manhattan_distance([1, 1], [2, 2]))  # should print \"2\"\n",
        "print(my_manhattan_distance([0, 1, 2], [5, -7, 13]))  # should print \"24\"\n",
        "\n"
      ],
      "execution_count": null,
      "outputs": [
        {
          "output_type": "stream",
          "text": [
            "1\n",
            "2\n",
            "24\n"
          ],
          "name": "stdout"
        }
      ]
    },
    {
      "cell_type": "markdown",
      "metadata": {
        "id": "i2e9lbsDZS96"
      },
      "source": [
        "Great! Lets see how our accuracies change with our Manhattan distance metric!"
      ]
    },
    {
      "cell_type": "code",
      "metadata": {
        "id": "I0sOkkgRVs9L",
        "colab": {
          "base_uri": "https://localhost:8080/"
        },
        "outputId": "d860c90c-c3c0-4cbe-c3a8-6f1874895f93"
      },
      "source": [
        "# now let's test out your distance function in the real-live classifier!\n",
        "knn = neighbors.KNeighborsClassifier(n_neighbors=best_k, metric=my_manhattan_distance)\n",
        "knn.fit(X_train, y_train)\n",
        "y_predict = knn.predict(X_test)\n",
        "# print(y_predict)\n",
        "# Compute the score (mean accuracy) on test set\n",
        "score = knn.score(X_test, y_test)\n",
        "print(score)\n"
      ],
      "execution_count": null,
      "outputs": [
        {
          "output_type": "stream",
          "text": [
            "0.8888888888888888\n"
          ],
          "name": "stdout"
        }
      ]
    },
    {
      "cell_type": "markdown",
      "metadata": {
        "id": "XH_sc4xic1el"
      },
      "source": [
        "How did the Manhattan distance do compared to Euclidean distance?  Euclidean distance was 1.0 while the Manhattan distance was 0.89.\n",
        "\n",
        "For really large datasets with a lot of dimensions (features), the Manhattan distance is sometimes preferred over Euclidean distance!"
      ]
    },
    {
      "cell_type": "markdown",
      "metadata": {
        "id": "1FR2hMxXfZ6R"
      },
      "source": [
        "If you're curious about other distance metrics, and how they might effect your accuracies, take a look at [these other metrics. ](https://scikit-learn.org/stable/modules/generated/sklearn.neighbors.DistanceMetric.html#sklearn.neighbors.DistanceMetric) Try a few of them out if you have some time!"
      ]
    },
    {
      "cell_type": "markdown",
      "metadata": {
        "id": "6zj1aOexuj4w"
      },
      "source": [
        "## Write your own KNN classifier"
      ]
    },
    {
      "cell_type": "code",
      "metadata": {
        "id": "NjU6RPBHubk2"
      },
      "source": [
        "class KNearestNeighbors:\n",
        "\n",
        "    \"\"\" kNN Classifier \"\"\"\n",
        "\n",
        "    def train(self, X_train, y_train):\n",
        "        self.X_train = np.array(X_train)\n",
        "        self.y_train = np.array(y_train)\n",
        "\n",
        "    def classify(self, X_test, k, distance_metric):\n",
        "        y_pred_list = []\n",
        "        X_test = np.array(X_test)\n",
        "        for sample in X_test:\n",
        "            y_pred = self.classify_sample(sample, k, distance_metric)\n",
        "            y_pred_list.append(y_pred)\n",
        "        return y_pred_list\n",
        "\n",
        "    def classify_sample(self, test_sample, k, distance_metric):\n",
        "        # find the k nearest neighbors of the test sample\n",
        "        distances = [] # list of tuples (distance_i, x_train_i, y_train_i) to keep track of the distance to each sample in the training set\n",
        "        for i in range(len(self.X_train)):\n",
        "          X_train_i = self.X_train[i]\n",
        "          y_train_i = self.y_train[i]\n",
        "          # TODO 1: compute the distance between the gene expression profiles of the two samples.\n",
        "          # --- your code here ---\n",
        "          distance_i = distance_metric(X_train_i, test_sample)\n",
        "\n",
        "          # TODO 2: store the computed distance and the training sample it corresponds to\n",
        "          # --- your code here ---\n",
        "          distances.append((distance_i, X_train_i, y_train_i))\n",
        "\n",
        "        distances.sort()  # it's sorted by the first element of the tuples\n",
        "        nearest_neighbors = distances[:k] # keep the closest k samples\n",
        "\n",
        "        # count the number of votes for each label\n",
        "        votes = {}  # NOTE, votes here is a dictionary, should be saved like votes[label]=count\n",
        "        for neighbor in nearest_neighbors:\n",
        "          # TODO 3: implement the body of the loop to count how many votes each label has\n",
        "\t        # --- your code here ---\n",
        "          if neighbor[2] not in votes:\n",
        "            votes[neighbor[2]] = 0\n",
        "          votes[neighbor[2]] += 1\n",
        "\n",
        "        max_label = 0\n",
        "        # TODO 4: set max_label to the label with most votes\n",
        "        # --- your code here ---\n",
        "        max_label = max(votes, key=votes.get)\n",
        "        return max_label"
      ],
      "execution_count": null,
      "outputs": []
    },
    {
      "cell_type": "code",
      "metadata": {
        "id": "jzF6DmFS1Eqw"
      },
      "source": [
        "# remember the accuracy function you wrote yesterday?\n",
        "def accuracy(predicted, actual):\n",
        "    correct = 0\n",
        "    actual = np.array(actual)\n",
        "    for x in range (0,len(predicted)):\n",
        "      if predicted[x] == actual[x]:\n",
        "        correct += 1\n",
        "\n",
        "    acc = correct/len(predicted)\n",
        "    return acc"
      ],
      "execution_count": null,
      "outputs": []
    },
    {
      "cell_type": "code",
      "metadata": {
        "colab": {
          "base_uri": "https://localhost:8080/"
        },
        "id": "jq0PecFc0PRi",
        "outputId": "448fa2cd-b3d1-48b9-a01a-2e01720cc17a"
      },
      "source": [
        "k = 1\n",
        "my_knn = KNearestNeighbors()\n",
        "\n",
        "# feed in training data\n",
        "my_knn.train(X_train, y_train)\n",
        "# classify test samples\n",
        "y_preds = my_knn.classify(X_test, k, my_euclidean_distance)\n",
        "# also try using manhattan distance\n",
        "#y_preds = my_knn.classify(X_test, k, my_manhattan_distance)\n",
        "acc = accuracy(y_preds, y_test)\n",
        "print(acc)"
      ],
      "execution_count": null,
      "outputs": [
        {
          "output_type": "stream",
          "text": [
            "1.0\n"
          ],
          "name": "stdout"
        }
      ]
    },
    {
      "cell_type": "markdown",
      "metadata": {
        "id": "oSC5ZREE46wA"
      },
      "source": [
        "Is the accuracy same with the KNN classifier from the package? If not, why?\n",
        "Try different k"
      ]
    },
    {
      "cell_type": "markdown",
      "metadata": {
        "id": "4T2RXQtg_1DE"
      },
      "source": [
        "#Optional: Calculating accuracy metrics"
      ]
    },
    {
      "cell_type": "code",
      "metadata": {
        "id": "R0pCR3II_z8z"
      },
      "source": [
        "from sklearn.metrics import confusion_matrix\n",
        "\n",
        "#TODO: calculate confusion matrix  MAKE SURE CONCEPT IS EXPLAINED FIRST IN ML LECTURE\n",
        "\n",
        "# confusion_matrix = confusion_matrix(y_test,y_predict)\n",
        "# print(confusion_matrix)\n",
        "\n",
        "def find_TP(y_true, y_pred):\n",
        "    # counts the number of true positives (y_true = 1, y_pred = 1)\n",
        "    return ((y_true == y_pred) & (y_true == 1)).sum()\n",
        "\n",
        "def find_FN(y_true, y_pred):\n",
        "    # counts the number of false negatives (y_true = 1, y_pred = 0)\n",
        "    return ((y_true != y_pred) & (y_true == 1)).sum()\n",
        "\n",
        "def find_FP(y_true, y_pred):\n",
        "    # counts the number of false positives (y_true = 0, y_pred = 1)\n",
        "    return ((y_true != y_pred) & (y_true == 0)).sum()\n",
        "\n",
        "def find_TN(y_true, y_pred):\n",
        "    # counts the number of true negatives (y_true = 0, y_pred = 0)\n",
        "    return ((y_true == y_pred) & (y_true == 0)).sum()\n",
        "\n",
        "def find_conf_matrix_values(y_true,y_pred):\n",
        "    # calculate TP, FN, FP, TN\n",
        "    TP = find_TP(y_true,y_pred)\n",
        "    FN = find_FN(y_true, y_pred)\n",
        "    FP = find_FP(y_true, y_pred)\n",
        "    TN = find_TN(y_true, y_pred)\n",
        "\n",
        "    return TP,FN,FP,TN\n",
        "\n",
        "def my_accuracy_score(TP,FN,FP,TN):\n",
        "    return (TP + TN) / (TP + FN + FP + TN)\n",
        "\n",
        "def my_recall_score(TP,FN,FP,TN):\n",
        "    # calculates the fraction of positive samples predicted correctly\n",
        "    return TP/(TP + FN)\n",
        "\n",
        "def my_precision_score(TP,FN,FP,TN):\n",
        "    # calculates the fraction of predicted positives samples that are actually positive\n",
        "    return TP/(TP + FP)\n",
        "\n",
        "def get_accuracy_metric(y_test, y_predict):\n",
        "  TP,FN,FP,TN = find_conf_matrix_values(y_test,y_predict)\n",
        "\n",
        "  accuracy = my_accuracy_score(TP,FN,FP,TN)\n",
        "  recall = my_recall_score(TP,FN,FP,TN)\n",
        "  precision = my_precision_score(TP,FN,FP,TN)\n",
        "  # print(TP,FN,FP,TN )\n",
        "  return accuracy, recall, precision\n"
      ],
      "execution_count": null,
      "outputs": []
    },
    {
      "cell_type": "code",
      "metadata": {
        "id": "C458DtP_fsSW",
        "colab": {
          "base_uri": "https://localhost:8080/"
        },
        "outputId": "43e51b03-ce0e-498e-e267-660794d3f307"
      },
      "source": [
        "print(\"Euclidean:\", get_accuracy_metric(y_test, y_preds))\n",
        "print(\"Manhattan:\", get_accuracy_metric(y_test, y_predict))"
      ],
      "execution_count": null,
      "outputs": [
        {
          "output_type": "stream",
          "text": [
            "Euclidean: (1.0, 1.0, 1.0)\n",
            "Manhattan: (0.8888888888888888, 0.8571428571428571, 0.8571428571428571)\n"
          ],
          "name": "stdout"
        }
      ]
    },
    {
      "cell_type": "markdown",
      "metadata": {
        "id": "t3YXJe125ggr"
      },
      "source": [
        "# Try KNN on multi-class classification"
      ]
    },
    {
      "cell_type": "code",
      "metadata": {
        "id": "mtpw0xNMAHLD"
      },
      "source": [
        "#upload = files.upload()\n",
        "\n",
        "#Load our data to a pandas dataframe\n",
        "data_lung = pd.read_csv('lung_normal_4tumors.csv')\n",
        "# Break the dataset up into the examples (X) and their labels (y)\n",
        "X = data_lung.drop(columns =\"label\")\n",
        "y = data_lung.label\n",
        "\n",
        "# Split up the X and y datasets into train and test sets\n",
        "# 25% of the dataset will be used for the test set\n",
        "X_train, X_test, y_train, y_test = train_test_split(X, y, test_size=0.25, random_state=15)"
      ],
      "execution_count": null,
      "outputs": []
    },
    {
      "cell_type": "code",
      "metadata": {
        "colab": {
          "base_uri": "https://localhost:8080/"
        },
        "id": "u0xMYLV_4WNX",
        "outputId": "eaf814e4-7594-4e35-a425-5bc17d0f9ac8"
      },
      "source": [
        "k = 1\n",
        "knn_lung = neighbors.KNeighborsClassifier(n_neighbors=k, metric=\"euclidean\")\n",
        "\n",
        "# Train the classifer\n",
        "knn_lung.fit(X_train, y_train)\n",
        "\n",
        "# Compute the score (mean accuracy) on test set\n",
        "score = knn_lung.score(X_test, y_test)\n",
        "print('KNN score for Lung Cancer: %f' % score)"
      ],
      "execution_count": null,
      "outputs": [
        {
          "output_type": "stream",
          "text": [
            "KNN score: 0.921569\n"
          ],
          "name": "stdout"
        }
      ]
    },
    {
      "cell_type": "code",
      "metadata": {
        "colab": {
          "base_uri": "https://localhost:8080/"
        },
        "id": "h-FLwPUv4oHM",
        "outputId": "6028bd80-031c-4b29-c67f-de1ab5a36ed7"
      },
      "source": [
        "k = 1\n",
        "my_knn_lung = KNearestNeighbors()\n",
        "\n",
        "# feed in training data\n",
        "my_knn_lung.train(X_train, y_train)\n",
        "# classify test samples\n",
        "y_pred_lung = my_knn_lung.classify(X_test, k, my_euclidean_distance)\n",
        "# also try using manhattan distance\n",
        "#y_pred_lung = my_knn.classify(X_test, k, my_manhattan_distance)\n",
        "acc = accuracy(y_pred_lung, y_test)\n",
        "print(acc)"
      ],
      "execution_count": null,
      "outputs": [
        {
          "output_type": "stream",
          "text": [
            "0.9215686274509803\n"
          ],
          "name": "stdout"
        }
      ]
    },
    {
      "cell_type": "code",
      "metadata": {
        "id": "0vhB_HiXG--0"
      },
      "source": [],
      "execution_count": null,
      "outputs": []
    }
  ]
}